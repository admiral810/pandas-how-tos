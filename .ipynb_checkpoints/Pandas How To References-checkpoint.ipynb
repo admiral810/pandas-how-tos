{
 "cells": [
  {
   "cell_type": "code",
   "execution_count": 19,
   "metadata": {
    "ExecuteTime": {
     "end_time": "2020-03-29T23:00:19.069674Z",
     "start_time": "2020-03-29T23:00:19.064722Z"
    }
   },
   "outputs": [],
   "source": [
    "import pandas as pd\n",
    "import numpy as np\n",
    "import datetime as dt"
   ]
  },
  {
   "cell_type": "markdown",
   "metadata": {},
   "source": [
    "# Series\n",
    "A Series is a single column of data from a DataFrame. It is a single dimension of data, composed of just an index and the data.  The Series one-dimensional labeled array is capable of holding any data type (integers, strings, floating point numbers, Python objects, etc.). "
   ]
  },
  {
   "cell_type": "markdown",
   "metadata": {},
   "source": [
    "### create a series"
   ]
  },
  {
   "cell_type": "code",
   "execution_count": 24,
   "metadata": {
    "ExecuteTime": {
     "end_time": "2020-03-22T18:49:22.068559Z",
     "start_time": "2020-03-22T18:49:22.061577Z"
    }
   },
   "outputs": [
    {
     "data": {
      "text/plain": [
       "0      a\n",
       "1      2\n",
       "2    foo\n",
       "3    bar\n",
       "4      9\n",
       "dtype: object"
      ]
     },
     "execution_count": 24,
     "metadata": {},
     "output_type": "execute_result"
    }
   ],
   "source": [
    "ds = pd.Series([\"a\", 2, \"foo\", \"bar\", 9])\n",
    "ds"
   ]
  },
  {
   "cell_type": "markdown",
   "metadata": {},
   "source": [
    "### convert Panda series to Python list"
   ]
  },
  {
   "cell_type": "code",
   "execution_count": 25,
   "metadata": {
    "ExecuteTime": {
     "end_time": "2020-03-22T18:49:22.087508Z",
     "start_time": "2020-03-22T18:49:22.082521Z"
    }
   },
   "outputs": [
    {
     "name": "stdout",
     "output_type": "stream",
     "text": [
      "<class 'pandas.core.series.Series'>\n",
      "['a', 2, 'foo', 'bar', 9]\n"
     ]
    }
   ],
   "source": [
    "ds = pd.Series([\"a\", 2, \"foo\", \"bar\", 9])\n",
    "print (type(ds))\n",
    "list = ds.to_list()\n",
    "print (list)"
   ]
  },
  {
   "cell_type": "markdown",
   "metadata": {},
   "source": [
    "### operate over multiple series"
   ]
  },
  {
   "cell_type": "code",
   "execution_count": 26,
   "metadata": {
    "ExecuteTime": {
     "end_time": "2020-03-22T18:49:22.097482Z",
     "start_time": "2020-03-22T18:49:22.089532Z"
    }
   },
   "outputs": [
    {
     "data": {
      "text/plain": [
       "0     2\n",
       "1    12\n",
       "2    30\n",
       "3    56\n",
       "4    90\n",
       "dtype: int64"
      ]
     },
     "execution_count": 26,
     "metadata": {},
     "output_type": "execute_result"
    }
   ],
   "source": [
    "ds1 = pd.Series([2, 4, 6, 8, 10])\n",
    "ds2 = pd.Series([1, 3, 5, 7, 9])\n",
    "\n",
    "multiplied = ds1 * ds2\n",
    "multiplied"
   ]
  },
  {
   "cell_type": "markdown",
   "metadata": {},
   "source": [
    "###  compare the elements of two series"
   ]
  },
  {
   "cell_type": "code",
   "execution_count": 27,
   "metadata": {
    "ExecuteTime": {
     "end_time": "2020-03-22T18:49:22.115479Z",
     "start_time": "2020-03-22T18:49:22.106459Z"
    }
   },
   "outputs": [
    {
     "name": "stdout",
     "output_type": "stream",
     "text": [
      "Series One Larger:\n",
      "0    False\n",
      "1    False\n",
      "2     True\n",
      "3     True\n",
      "4    False\n",
      "dtype: bool\n"
     ]
    }
   ],
   "source": [
    "ds1 = pd.Series([2, 4, 3, 3, 10])\n",
    "ds2 = pd.Series([1, 3, 5, 7, 9])\n",
    "print(\"Series One Larger:\")\n",
    "print(ds1 < ds2)"
   ]
  },
  {
   "cell_type": "markdown",
   "metadata": {},
   "source": [
    "### convert a dictionary to a series"
   ]
  },
  {
   "cell_type": "code",
   "execution_count": 32,
   "metadata": {
    "ExecuteTime": {
     "end_time": "2020-03-22T18:50:33.572724Z",
     "start_time": "2020-03-22T18:50:33.564746Z"
    }
   },
   "outputs": [
    {
     "name": "stdout",
     "output_type": "stream",
     "text": [
      "<class 'pandas.core.series.Series'>\n"
     ]
    },
    {
     "data": {
      "text/plain": [
       "a    100\n",
       "b    200\n",
       "c    300\n",
       "d    400\n",
       "e    800\n",
       "dtype: int64"
      ]
     },
     "execution_count": 32,
     "metadata": {},
     "output_type": "execute_result"
    }
   ],
   "source": [
    "dict = {'a': 100, 'b': 200, 'c': 300, 'd': 400, 'e': 800}\n",
    "ds = pd.Series(dict)\n",
    "print(type(ds))\n",
    "ds"
   ]
  },
  {
   "cell_type": "markdown",
   "metadata": {},
   "source": [
    "### convert a NumPy array to a Pandas series"
   ]
  },
  {
   "cell_type": "code",
   "execution_count": 35,
   "metadata": {
    "ExecuteTime": {
     "end_time": "2020-03-22T18:53:32.181835Z",
     "start_time": "2020-03-22T18:53:32.173880Z"
    }
   },
   "outputs": [
    {
     "name": "stdout",
     "output_type": "stream",
     "text": [
      "<class 'numpy.ndarray'>\n",
      "<class 'pandas.core.series.Series'>\n"
     ]
    },
    {
     "data": {
      "text/plain": [
       "0     2\n",
       "1     4\n",
       "2     3\n",
       "3     3\n",
       "4    10\n",
       "dtype: int32"
      ]
     },
     "execution_count": 35,
     "metadata": {},
     "output_type": "execute_result"
    }
   ],
   "source": [
    "npa = np.array([2, 4, 3, 3, 10])\n",
    "print(type(npa))\n",
    "ds = pd.Series(npa)\n",
    "print(type(ds))\n",
    "ds"
   ]
  },
  {
   "cell_type": "markdown",
   "metadata": {},
   "source": [
    "### change the data type of a Series"
   ]
  },
  {
   "cell_type": "code",
   "execution_count": 41,
   "metadata": {
    "ExecuteTime": {
     "end_time": "2020-03-22T18:58:25.353984Z",
     "start_time": "2020-03-22T18:58:25.345017Z"
    }
   },
   "outputs": [
    {
     "data": {
      "text/plain": [
       "0    100.00\n",
       "1    200.00\n",
       "2       NaN\n",
       "3       NaN\n",
       "4    300.12\n",
       "dtype: float64"
      ]
     },
     "execution_count": 41,
     "metadata": {},
     "output_type": "execute_result"
    }
   ],
   "source": [
    "ds = pd.Series([100, 200, \"foo\", \"bar\", 300.12])\n",
    "ds_num = pd.to_numeric(ds, errors='coerce')  #coerce errors returns NaN as opposed to errors\n",
    "ds_num"
   ]
  },
  {
   "cell_type": "markdown",
   "metadata": {},
   "source": [
    "### convert the first column of a DataFrame as a Series"
   ]
  },
  {
   "cell_type": "code",
   "execution_count": 45,
   "metadata": {
    "ExecuteTime": {
     "end_time": "2020-03-22T19:07:27.005619Z",
     "start_time": "2020-03-22T19:07:26.994680Z"
    }
   },
   "outputs": [
    {
     "name": "stdout",
     "output_type": "stream",
     "text": [
      "<class 'pandas.core.series.Series'>\n"
     ]
    },
    {
     "data": {
      "text/plain": [
       "0    1\n",
       "1    3\n",
       "2    8\n",
       "Name: A, dtype: int64"
      ]
     },
     "execution_count": 45,
     "metadata": {},
     "output_type": "execute_result"
    }
   ],
   "source": [
    "df = pd.DataFrame(\n",
    "    {\"A\" : [1, 3, 8],\n",
    "     \"B\" : [2, 5, 7],\n",
    "     \"C\" : [3, 5, 9]})\n",
    "ds = pd.Series(df[\"A\"])\n",
    "print(type(ds))\n",
    "ds"
   ]
  },
  {
   "cell_type": "markdown",
   "metadata": {
    "ExecuteTime": {
     "end_time": "2020-03-22T19:08:15.457538Z",
     "start_time": "2020-03-22T19:08:15.453545Z"
    }
   },
   "source": [
    "### convert a series to a nupy array"
   ]
  },
  {
   "cell_type": "code",
   "execution_count": 51,
   "metadata": {
    "ExecuteTime": {
     "end_time": "2020-03-22T19:11:49.680284Z",
     "start_time": "2020-03-22T19:11:49.675297Z"
    }
   },
   "outputs": [
    {
     "name": "stdout",
     "output_type": "stream",
     "text": [
      "<class 'numpy.ndarray'>\n",
      "[100 200 'foo' 'bar' 300.12]\n"
     ]
    }
   ],
   "source": [
    "ds = pd.Series([100, 200, \"foo\", \"bar\", 300.12])\n",
    "npa = np.array(ds)\n",
    "print(type(npa))\n",
    "print(npa)"
   ]
  },
  {
   "cell_type": "markdown",
   "metadata": {
    "ExecuteTime": {
     "end_time": "2020-03-22T19:12:46.792423Z",
     "start_time": "2020-03-22T19:12:46.788467Z"
    }
   },
   "source": [
    "### convert series of lists to one series\n",
    "pd.Series.apply will invoke function on values of series https://pandas.pydata.org/pandas-docs/stable/reference/api/pandas.Series.apply.html"
   ]
  },
  {
   "cell_type": "code",
   "execution_count": 62,
   "metadata": {
    "ExecuteTime": {
     "end_time": "2020-03-22T19:17:45.804788Z",
     "start_time": "2020-03-22T19:17:45.796810Z"
    }
   },
   "outputs": [
    {
     "name": "stdout",
     "output_type": "stream",
     "text": [
      "0      Red\n",
      "1    Green\n",
      "2     Blue\n",
      "3      Red\n",
      "4    Black\n",
      "5    White\n",
      "dtype: object\n"
     ]
    }
   ],
   "source": [
    "ds = pd.Series([[\"Red\", \"Green\", \"Blue\"], [\"Red\", \"Black\"], \"White\"])\n",
    "ds = ds.apply(pd.Series).stack().reset_index(drop=True)  #reset index value otherwise get 'gaps' or mult index values\n",
    "print(ds)"
   ]
  },
  {
   "cell_type": "markdown",
   "metadata": {},
   "source": [
    "### sort a series"
   ]
  },
  {
   "cell_type": "code",
   "execution_count": 64,
   "metadata": {
    "ExecuteTime": {
     "end_time": "2020-03-22T19:39:48.999800Z",
     "start_time": "2020-03-22T19:39:48.983842Z"
    }
   },
   "outputs": [
    {
     "data": {
      "text/plain": [
       "2      1.00\n",
       "3      5.60\n",
       "0    100.00\n",
       "1    200.00\n",
       "4    300.12\n",
       "dtype: float64"
      ]
     },
     "execution_count": 64,
     "metadata": {},
     "output_type": "execute_result"
    }
   ],
   "source": [
    "ds = pd.Series([100, 200, 1, 5.6, 300.12])\n",
    "ds_sorted = ds.sort_values()\n",
    "ds_sorted"
   ]
  },
  {
   "cell_type": "markdown",
   "metadata": {},
   "source": [
    "### add data to existing series"
   ]
  },
  {
   "cell_type": "code",
   "execution_count": 73,
   "metadata": {
    "ExecuteTime": {
     "end_time": "2020-03-22T19:47:07.589503Z",
     "start_time": "2020-03-22T19:47:07.575579Z"
    }
   },
   "outputs": [
    {
     "data": {
      "text/plain": [
       "0    100\n",
       "1    200\n",
       "2     58\n",
       "3     56\n",
       "4     88\n",
       "5    foo\n",
       "6    bar\n",
       "dtype: object"
      ]
     },
     "execution_count": 73,
     "metadata": {},
     "output_type": "execute_result"
    }
   ],
   "source": [
    "ds = pd.Series([100, 200, 58, 56, 88])\n",
    "ds2 = pd.Series([\"foo\", \"bar\"])\n",
    "ds = ds.append(ds2).reset_index(drop=True)\n",
    "ds"
   ]
  },
  {
   "cell_type": "markdown",
   "metadata": {},
   "source": [
    "### create a subset of a given series based on value and condition"
   ]
  },
  {
   "cell_type": "code",
   "execution_count": 75,
   "metadata": {
    "ExecuteTime": {
     "end_time": "2020-03-22T19:50:14.610863Z",
     "start_time": "2020-03-22T19:50:14.599906Z"
    }
   },
   "outputs": [
    {
     "data": {
      "text/plain": [
       "2    58\n",
       "3    56\n",
       "4    88\n",
       "dtype: int64"
      ]
     },
     "execution_count": 75,
     "metadata": {},
     "output_type": "execute_result"
    }
   ],
   "source": [
    "ds = pd.Series([100, 200, 58, 56, 88])\n",
    "ds_less_than_100 = ds[ds < 100]\n",
    "ds_less_than_100"
   ]
  },
  {
   "cell_type": "markdown",
   "metadata": {},
   "source": [
    "### change the order of index of a series"
   ]
  },
  {
   "cell_type": "code",
   "execution_count": 76,
   "metadata": {
    "ExecuteTime": {
     "end_time": "2020-03-22T20:51:48.997924Z",
     "start_time": "2020-03-22T20:51:48.975979Z"
    }
   },
   "outputs": [
    {
     "name": "stdout",
     "output_type": "stream",
     "text": [
      "4    A\n",
      "2    C\n",
      "3    D\n",
      "1    B\n",
      "dtype: object\n"
     ]
    },
    {
     "data": {
      "text/plain": [
       "1    B\n",
       "2    C\n",
       "3    D\n",
       "4    A\n",
       "dtype: object"
      ]
     },
     "execution_count": 76,
     "metadata": {},
     "output_type": "execute_result"
    }
   ],
   "source": [
    "ds = pd.Series(data=[\"A\", \"C\", \"D\", \"B\"], index=[4, 2, 3, 1])\n",
    "print (ds)\n",
    "ds_reindex = ds.reindex([1, 2, 3, 4])\n",
    "ds_reindex"
   ]
  },
  {
   "cell_type": "markdown",
   "metadata": {},
   "source": [
    "### create the mean and standard deviation of a Series"
   ]
  },
  {
   "cell_type": "code",
   "execution_count": 84,
   "metadata": {
    "ExecuteTime": {
     "end_time": "2020-03-22T21:01:45.211215Z",
     "start_time": "2020-03-22T21:01:45.206215Z"
    }
   },
   "outputs": [
    {
     "name": "stdout",
     "output_type": "stream",
     "text": [
      "Mean: 6.8  Std Dev: 4.147288270665545\n"
     ]
    }
   ],
   "source": [
    "ds = pd.Series([1, 5, 7, 9, 12])\n",
    "mean = ds.mean()\n",
    "std_dev = ds.std()\n",
    "print(f\"Mean: {mean}  Std Dev: {std_dev}\")"
   ]
  },
  {
   "cell_type": "markdown",
   "metadata": {},
   "source": [
    "### items of a series present in another series"
   ]
  },
  {
   "cell_type": "code",
   "execution_count": 96,
   "metadata": {
    "ExecuteTime": {
     "end_time": "2020-03-22T21:13:21.450060Z",
     "start_time": "2020-03-22T21:13:21.442091Z"
    }
   },
   "outputs": [
    {
     "name": "stdout",
     "output_type": "stream",
     "text": [
      "0     1\n",
      "2     7\n",
      "4    12\n",
      "dtype: int64\n"
     ]
    }
   ],
   "source": [
    "ds1 = pd.Series([1, 5, 7, 9, 12])\n",
    "ds2 = pd.Series([1, 8, 7, 15, 12])\n",
    "\n",
    "#value in other series\n",
    "val_in_other_series = ds1[ds1.isin(ds2)]  \n",
    "print(val_in_other_series)"
   ]
  },
  {
   "cell_type": "markdown",
   "metadata": {},
   "source": [
    "### items of a series NOT present in another series"
   ]
  },
  {
   "cell_type": "code",
   "execution_count": 97,
   "metadata": {
    "ExecuteTime": {
     "end_time": "2020-03-22T21:13:22.539825Z",
     "start_time": "2020-03-22T21:13:22.531843Z"
    }
   },
   "outputs": [
    {
     "name": "stdout",
     "output_type": "stream",
     "text": [
      "1    5\n",
      "3    9\n",
      "dtype: int64\n"
     ]
    }
   ],
   "source": [
    "ds1 = pd.Series([1, 5, 7, 9, 12])\n",
    "ds2 = pd.Series([1, 8, 7, 15, 12])\n",
    "\n",
    "#value not in other series\n",
    "val_not_in_other_series = ds1[~ds1.isin(ds2)]  \n",
    "print(val_not_in_other_series)"
   ]
  },
  {
   "cell_type": "markdown",
   "metadata": {},
   "source": [
    "### compute the min, 25th perc, median, 75th perc, max"
   ]
  },
  {
   "cell_type": "code",
   "execution_count": 102,
   "metadata": {
    "ExecuteTime": {
     "end_time": "2020-03-22T21:20:21.108686Z",
     "start_time": "2020-03-22T21:20:21.101703Z"
    }
   },
   "outputs": [
    {
     "data": {
      "text/plain": [
       "array([ 1.16329638,  9.18209927, 10.91630888, 14.94066182, 24.30158889])"
      ]
     },
     "execution_count": 102,
     "metadata": {},
     "output_type": "execute_result"
    }
   ],
   "source": [
    "numbers = pd.Series(np.random.normal(10, 4, 100))\n",
    "result = np.percentile(numbers, q=[0, 25, 50, 75, 100])\n",
    "result"
   ]
  },
  {
   "cell_type": "markdown",
   "metadata": {
    "ExecuteTime": {
     "end_time": "2020-03-22T21:24:43.123700Z",
     "start_time": "2020-03-22T21:24:43.119702Z"
    }
   },
   "source": [
    "### frequency counts of unique values in series"
   ]
  },
  {
   "cell_type": "code",
   "execution_count": 113,
   "metadata": {
    "ExecuteTime": {
     "end_time": "2020-03-22T21:27:07.822363Z",
     "start_time": "2020-03-22T21:27:07.813372Z"
    }
   },
   "outputs": [
    {
     "data": {
      "text/plain": [
       "8    14\n",
       "2    14\n",
       "7    13\n",
       "6    13\n",
       "5    11\n",
       "4    11\n",
       "1    10\n",
       "9     8\n",
       "3     6\n",
       "dtype: int64"
      ]
     },
     "execution_count": 113,
     "metadata": {},
     "output_type": "execute_result"
    }
   ],
   "source": [
    "numbers = pd.Series(np.random.randint(1, 10, 100))\n",
    "results = numbers.value_counts()\n",
    "results"
   ]
  },
  {
   "cell_type": "markdown",
   "metadata": {},
   "source": [
    "### relabel non-top values as 'other'"
   ]
  },
  {
   "cell_type": "code",
   "execution_count": 138,
   "metadata": {
    "ExecuteTime": {
     "end_time": "2020-03-22T21:40:53.997974Z",
     "start_time": "2020-03-22T21:40:53.987003Z"
    }
   },
   "outputs": [
    {
     "data": {
      "text/plain": [
       "0     Other\n",
       "1     Other\n",
       "2     Other\n",
       "3     Other\n",
       "4     Other\n",
       "      ...  \n",
       "95        5\n",
       "96    Other\n",
       "97    Other\n",
       "98    Other\n",
       "99    Other\n",
       "Length: 100, dtype: object"
      ]
     },
     "execution_count": 138,
     "metadata": {},
     "output_type": "execute_result"
    }
   ],
   "source": [
    "np.random.RandomState(100)\n",
    "num_series = pd.Series(np.random.randint(1, 10, [100]))\n",
    "result = num_series[~num_series.isin(num_series.value_counts().index[:1])] = 'Other'\n",
    "num_series"
   ]
  },
  {
   "cell_type": "markdown",
   "metadata": {},
   "source": [
    "###  find the positions of numbers that are multiples of 5"
   ]
  },
  {
   "cell_type": "code",
   "execution_count": 151,
   "metadata": {
    "ExecuteTime": {
     "end_time": "2020-03-22T21:47:37.854962Z",
     "start_time": "2020-03-22T21:47:37.848979Z"
    }
   },
   "outputs": [
    {
     "data": {
      "text/plain": [
       "array([[ 0],\n",
       "       [ 1],\n",
       "       [ 3],\n",
       "       [14],\n",
       "       [15],\n",
       "       [19]], dtype=int64)"
      ]
     },
     "execution_count": 151,
     "metadata": {},
     "output_type": "execute_result"
    }
   ],
   "source": [
    "num_series = pd.Series(np.random.randint(1, 11, 20))\n",
    "results = np.argwhere(num_series % 5 == 0)\n",
    "results  #can validate by printing num_series"
   ]
  },
  {
   "cell_type": "markdown",
   "metadata": {},
   "source": [
    "### extract items at given positions of a series"
   ]
  },
  {
   "cell_type": "code",
   "execution_count": 156,
   "metadata": {
    "ExecuteTime": {
     "end_time": "2020-03-22T21:51:13.438652Z",
     "start_time": "2020-03-22T21:51:13.422696Z"
    }
   },
   "outputs": [
    {
     "name": "stdout",
     "output_type": "stream",
     "text": [
      "2    orange\n",
      "dtype: object\n",
      "0     apple\n",
      "1    banana\n",
      "2    orange\n",
      "dtype: object\n"
     ]
    }
   ],
   "source": [
    "ds = pd.Series([\"apple\", \"banana\", \"orange\", \"pineapple\", \"pear\"])\n",
    "result_1 = ds.take([2])\n",
    "result_2 = ds.take([0, 1, 2])\n",
    "print(result_1)\n",
    "print(result_2)"
   ]
  },
  {
   "cell_type": "markdown",
   "metadata": {},
   "source": [
    "### get the positions of items of a series in another series"
   ]
  },
  {
   "cell_type": "code",
   "execution_count": 159,
   "metadata": {
    "ExecuteTime": {
     "end_time": "2020-03-22T21:54:26.166442Z",
     "start_time": "2020-03-22T21:54:26.151483Z"
    }
   },
   "outputs": [
    {
     "name": "stdout",
     "output_type": "stream",
     "text": [
      "Positions of items of series2 in series1:\n"
     ]
    },
    {
     "data": {
      "text/plain": [
       "[0, 2, 4, 6, 9]"
      ]
     },
     "execution_count": 159,
     "metadata": {},
     "output_type": "execute_result"
    }
   ],
   "source": [
    "ds1 = pd.Series([1, 2, 3, 4, 5, 6, 7, 8, 9, 10])\n",
    "ds2 = pd.Series([1, 3, 5, 7, 10])\n",
    "\n",
    "result = [pd.Index(ds1).get_loc(i) for i in ds2]\n",
    "print(\"Positions of items of series2 in series1:\")\n",
    "result"
   ]
  },
  {
   "cell_type": "markdown",
   "metadata": {},
   "source": [
    "### convert the first and last character of each word to upper case in series"
   ]
  },
  {
   "cell_type": "code",
   "execution_count": 162,
   "metadata": {
    "ExecuteTime": {
     "end_time": "2020-03-22T22:01:38.130543Z",
     "start_time": "2020-03-22T22:01:38.118579Z"
    }
   },
   "outputs": [
    {
     "data": {
      "text/plain": [
       "0     Bill S\n",
       "1      Ted R\n",
       "2    Sarah H\n",
       "3     Adam R\n",
       "dtype: object"
      ]
     },
     "execution_count": 162,
     "metadata": {},
     "output_type": "execute_result"
    }
   ],
   "source": [
    "ds = pd.Series([\"bill s\", \"ted r\", \"sarah h\", \"adam r\"])\n",
    "result = ds.map(lambda x: x[0].upper() + x[1:-1] + x[-1].upper()) \n",
    "result"
   ]
  },
  {
   "cell_type": "markdown",
   "metadata": {},
   "source": [
    "### calculate the number of characters in each word in a series"
   ]
  },
  {
   "cell_type": "code",
   "execution_count": 207,
   "metadata": {
    "ExecuteTime": {
     "end_time": "2020-03-22T23:48:02.441752Z",
     "start_time": "2020-03-22T23:48:02.432779Z"
    }
   },
   "outputs": [
    {
     "data": {
      "text/plain": [
       "0    4\n",
       "1    3\n",
       "2    5\n",
       "3    4\n",
       "dtype: int64"
      ]
     },
     "execution_count": 207,
     "metadata": {},
     "output_type": "execute_result"
    }
   ],
   "source": [
    "ds = pd.Series([\"bill\", \"ted\", \"sarah\", \"adam\"])\n",
    "result = ds.map(lambda x: len(x))\n",
    "type(result)\n",
    "result"
   ]
  },
  {
   "cell_type": "markdown",
   "metadata": {
    "ExecuteTime": {
     "end_time": "2020-03-22T22:02:44.652191Z",
     "start_time": "2020-03-22T22:02:44.649234Z"
    }
   },
   "source": [
    "### compute difference between consecutive numbers of a series"
   ]
  },
  {
   "cell_type": "code",
   "execution_count": 168,
   "metadata": {
    "ExecuteTime": {
     "end_time": "2020-03-22T22:06:03.700720Z",
     "start_time": "2020-03-22T22:06:03.688752Z"
    }
   },
   "outputs": [
    {
     "data": {
      "text/plain": [
       "1    4.0\n",
       "2    2.0\n",
       "3    2.0\n",
       "4    3.0\n",
       "dtype: float64"
      ]
     },
     "execution_count": 168,
     "metadata": {},
     "output_type": "execute_result"
    }
   ],
   "source": [
    "ds = pd.Series([1, 5, 7, 9, 12])\n",
    "result = ds.diff()  #.diff provies first discrete difference of element\n",
    "result[1:]"
   ]
  },
  {
   "cell_type": "markdown",
   "metadata": {},
   "source": [
    "### convert date strings to a timeseries"
   ]
  },
  {
   "cell_type": "code",
   "execution_count": 190,
   "metadata": {
    "ExecuteTime": {
     "end_time": "2020-03-22T23:34:09.225389Z",
     "start_time": "2020-03-22T23:34:09.217437Z"
    }
   },
   "outputs": [
    {
     "data": {
      "text/plain": [
       "0   2015-01-01 00:00:00\n",
       "1   2016-10-02 00:00:00\n",
       "2   2018-03-07 00:00:00\n",
       "3   2014-05-06 00:00:00\n",
       "4   2016-04-12 00:00:00\n",
       "5   2019-04-06 11:20:00\n",
       "dtype: datetime64[ns]"
      ]
     },
     "execution_count": 190,
     "metadata": {},
     "output_type": "execute_result"
    }
   ],
   "source": [
    "ds = pd.Series(['01 Jan 2015', '10-02-2016', '20180307', '2014/05/06', '2016-04-12', '2019-04-06T11:20'])\n",
    "date_ds = pd.to_datetime(ds)\n",
    "date_ds"
   ]
  },
  {
   "cell_type": "markdown",
   "metadata": {
    "ExecuteTime": {
     "end_time": "2020-03-22T23:35:44.484828Z",
     "start_time": "2020-03-22T23:35:44.480874Z"
    }
   },
   "source": [
    "### get the day of month, year, week from date strings"
   ]
  },
  {
   "cell_type": "code",
   "execution_count": 203,
   "metadata": {
    "ExecuteTime": {
     "end_time": "2020-03-22T23:43:51.114538Z",
     "start_time": "2020-03-22T23:43:51.104563Z"
    }
   },
   "outputs": [
    {
     "name": "stdout",
     "output_type": "stream",
     "text": [
      "Day of month: [1, 2, 7, 6, 12, 6]\n",
      "Day of year: [1, 276, 66, 126, 103, 96]\n",
      "Week number: [1, 39, 10, 19, 15, 14]\n",
      "Day of week: ['Thursday', 'Sunday', 'Wednesday', 'Tuesday', 'Tuesday', 'Saturday']\n"
     ]
    }
   ],
   "source": [
    "from dateutil.parser import parse\n",
    "\n",
    "ds = pd.Series(['01 Jan 2015', '10-02-2016', '20180307', '2014/05/06', '2016-04-12', '2019-04-06T11:20'])\n",
    "ds = ds.map(lambda x: parse(x))\n",
    "day_of_month = ds.dt.day.to_list()\n",
    "day_of_year = ds.dt.dayofyear.to_list()\n",
    "week_number = ds.dt.weekofyear.to_list()\n",
    "day_of_week = ds.dt.weekday_name.to_list()\n",
    "print(f\"Day of month: {day_of_month}\")\n",
    "print(f\"Day of year: {day_of_year}\")\n",
    "print(f\"Week number: {week_number}\")\n",
    "print(f\"Day of week: {day_of_week}\")"
   ]
  },
  {
   "cell_type": "markdown",
   "metadata": {},
   "source": [
    "### convert year-month string to year-month-day"
   ]
  },
  {
   "cell_type": "code",
   "execution_count": 211,
   "metadata": {
    "ExecuteTime": {
     "end_time": "2020-03-23T12:44:40.052816Z",
     "start_time": "2020-03-23T12:44:40.043840Z"
    }
   },
   "outputs": [
    {
     "data": {
      "text/plain": [
       "0   2011-06-01\n",
       "1   2015-07-01\n",
       "2   2020-05-01\n",
       "3   2010-01-01\n",
       "dtype: datetime64[ns]"
      ]
     },
     "execution_count": 211,
     "metadata": {},
     "output_type": "execute_result"
    }
   ],
   "source": [
    "from dateutil.parser import parse\n",
    "\n",
    "ds = pd.Series([\"June 2011\", \"July 2015\", \"May 2020\", \"January 2010\"])\n",
    "ds = ds.map(lambda x: parse(\"1\" + x))\n",
    "ds"
   ]
  },
  {
   "cell_type": "markdown",
   "metadata": {},
   "source": [
    "### filter words from a given series that contain condition"
   ]
  },
  {
   "cell_type": "code",
   "execution_count": 219,
   "metadata": {
    "ExecuteTime": {
     "end_time": "2020-03-23T12:53:28.833710Z",
     "start_time": "2020-03-23T12:53:28.821747Z"
    }
   },
   "outputs": [
    {
     "data": {
      "text/plain": [
       "1     tennis\n",
       "4       golf\n",
       "5    lacross\n",
       "dtype: object"
      ]
     },
     "execution_count": 219,
     "metadata": {},
     "output_type": "execute_result"
    }
   ],
   "source": [
    "ds = pd.Series([\"basketball\", \"tennis\", \"football\", \"baseball\", \"golf\", \"lacross\", \"handball\"])\n",
    "\n",
    "#words that dont contain 'ball'\n",
    "result = ds[~ds.str.contains('ball')]  # ~ negates the condition\n",
    "result "
   ]
  },
  {
   "cell_type": "markdown",
   "metadata": {},
   "source": [
    "### Euclidean distance between two series\n",
    "The Euclidean distance or Euclidean metric is the \"ordinary\" straight-line distance between two points in Euclidean space. With this distance, Euclidean space becomes a metric space. The associated norm is called the Euclidean norm."
   ]
  },
  {
   "cell_type": "code",
   "execution_count": 10,
   "metadata": {
    "ExecuteTime": {
     "end_time": "2020-03-24T00:55:20.992662Z",
     "start_time": "2020-03-24T00:55:20.981688Z"
    }
   },
   "outputs": [
    {
     "name": "stdout",
     "output_type": "stream",
     "text": [
      "Euclidean distance between two said series:\n",
      "16.492422502470642\n"
     ]
    }
   ],
   "source": [
    "x = pd.Series([1, 2, 3, 4, 5, 6, 7, 8, 9, 10])\n",
    "y = pd.Series([11, 8, 7, 5, 6, 5, 3, 4, 7, 1])\n",
    "print(\"Euclidean distance between two said series:\")\n",
    "print(np.linalg.norm(x-y))"
   ]
  },
  {
   "cell_type": "markdown",
   "metadata": {
    "ExecuteTime": {
     "end_time": "2020-03-24T00:54:15.572194Z",
     "start_time": "2020-03-24T00:54:15.496318Z"
    }
   },
   "source": [
    "### find the positions of the values neighboured by smaller values on both sides"
   ]
  },
  {
   "cell_type": "code",
   "execution_count": 12,
   "metadata": {
    "ExecuteTime": {
     "end_time": "2020-03-24T01:00:25.092485Z",
     "start_time": "2020-03-24T01:00:25.082510Z"
    }
   },
   "outputs": [
    {
     "name": "stdout",
     "output_type": "stream",
     "text": [
      "[1 4 8]\n"
     ]
    }
   ],
   "source": [
    "ds1 = pd.Series([1, 8, 7, 5, 6, 5, 3, 4, 7, 1])\n",
    "temp = np.diff(np.sign(np.diff(ds1)))\n",
    "result = np.where(temp == -2)[0] + 1\n",
    "print(result)"
   ]
  },
  {
   "cell_type": "markdown",
   "metadata": {},
   "source": [
    "# Dataframes\n",
    "DataFrame is a 2-dimensional labeled data structure with columns of potentially different types. You can think of it like a spreadsheet or SQL table, or a dict of Series objects. It is generally the most commonly used pandas object. Like Series, DataFrame accepts many different kinds of input:\n",
    "\n",
    "- Dict of 1D ndarrays, lists, dicts, or Series\n",
    "- 2-D numpy.ndarr oay\n",
    "- Structured or record ndarray\n",
    "- A Series\n",
    "- Another DataFrame\n",
    "\n",
    "Along with the data, you can optionally pass index (row labels) and columns (column labels) arguments. If you pass an index and / or columns, you are guaranteeing the index and / or columns of the resulting DataFrame. Thus, a dict of Series plus a specific index will discard all data not matching up to the passed index."
   ]
  },
  {
   "cell_type": "markdown",
   "metadata": {},
   "source": [
    "### create a dataframe from a dictionary of lists"
   ]
  },
  {
   "cell_type": "code",
   "execution_count": 13,
   "metadata": {
    "ExecuteTime": {
     "end_time": "2020-03-26T23:57:01.743460Z",
     "start_time": "2020-03-26T23:57:01.700561Z"
    }
   },
   "outputs": [
    {
     "data": {
      "text/html": [
       "<div>\n",
       "<style scoped>\n",
       "    .dataframe tbody tr th:only-of-type {\n",
       "        vertical-align: middle;\n",
       "    }\n",
       "\n",
       "    .dataframe tbody tr th {\n",
       "        vertical-align: top;\n",
       "    }\n",
       "\n",
       "    .dataframe thead th {\n",
       "        text-align: right;\n",
       "    }\n",
       "</style>\n",
       "<table border=\"1\" class=\"dataframe\">\n",
       "  <thead>\n",
       "    <tr style=\"text-align: right;\">\n",
       "      <th></th>\n",
       "      <th>item</th>\n",
       "      <th>sales</th>\n",
       "      <th>product</th>\n",
       "    </tr>\n",
       "  </thead>\n",
       "  <tbody>\n",
       "    <tr>\n",
       "      <td>0</td>\n",
       "      <td>1</td>\n",
       "      <td>200</td>\n",
       "      <td>foo</td>\n",
       "    </tr>\n",
       "    <tr>\n",
       "      <td>1</td>\n",
       "      <td>3</td>\n",
       "      <td>450</td>\n",
       "      <td>bar</td>\n",
       "    </tr>\n",
       "    <tr>\n",
       "      <td>2</td>\n",
       "      <td>5</td>\n",
       "      <td>500</td>\n",
       "      <td>foobar</td>\n",
       "    </tr>\n",
       "    <tr>\n",
       "      <td>3</td>\n",
       "      <td>6</td>\n",
       "      <td>200</td>\n",
       "      <td>item</td>\n",
       "    </tr>\n",
       "  </tbody>\n",
       "</table>\n",
       "</div>"
      ],
      "text/plain": [
       "   item  sales product\n",
       "0     1    200     foo\n",
       "1     3    450     bar\n",
       "2     5    500  foobar\n",
       "3     6    200    item"
      ]
     },
     "execution_count": 13,
     "metadata": {},
     "output_type": "execute_result"
    }
   ],
   "source": [
    "df = pd.DataFrame({\"item\" : [1, 3, 5, 6],\n",
    "                   \"sales\" : [200, 450, 500, 200],\n",
    "                   \"product\" : [\"foo\", \"bar\", \"foobar\", \"item\"]\n",
    "                  })\n",
    "df"
   ]
  },
  {
   "cell_type": "markdown",
   "metadata": {},
   "source": [
    "### create dataframe with specific index values"
   ]
  },
  {
   "cell_type": "code",
   "execution_count": 14,
   "metadata": {
    "ExecuteTime": {
     "end_time": "2020-03-27T00:01:30.533425Z",
     "start_time": "2020-03-27T00:01:30.513478Z"
    }
   },
   "outputs": [
    {
     "data": {
      "text/html": [
       "<div>\n",
       "<style scoped>\n",
       "    .dataframe tbody tr th:only-of-type {\n",
       "        vertical-align: middle;\n",
       "    }\n",
       "\n",
       "    .dataframe tbody tr th {\n",
       "        vertical-align: top;\n",
       "    }\n",
       "\n",
       "    .dataframe thead th {\n",
       "        text-align: right;\n",
       "    }\n",
       "</style>\n",
       "<table border=\"1\" class=\"dataframe\">\n",
       "  <thead>\n",
       "    <tr style=\"text-align: right;\">\n",
       "      <th></th>\n",
       "      <th>item</th>\n",
       "      <th>sales</th>\n",
       "      <th>product</th>\n",
       "    </tr>\n",
       "  </thead>\n",
       "  <tbody>\n",
       "    <tr>\n",
       "      <td>a</td>\n",
       "      <td>1</td>\n",
       "      <td>200</td>\n",
       "      <td>foo</td>\n",
       "    </tr>\n",
       "    <tr>\n",
       "      <td>b</td>\n",
       "      <td>3</td>\n",
       "      <td>450</td>\n",
       "      <td>bar</td>\n",
       "    </tr>\n",
       "    <tr>\n",
       "      <td>c</td>\n",
       "      <td>5</td>\n",
       "      <td>500</td>\n",
       "      <td>foobar</td>\n",
       "    </tr>\n",
       "    <tr>\n",
       "      <td>d</td>\n",
       "      <td>6</td>\n",
       "      <td>200</td>\n",
       "      <td>item</td>\n",
       "    </tr>\n",
       "  </tbody>\n",
       "</table>\n",
       "</div>"
      ],
      "text/plain": [
       "   item  sales product\n",
       "a     1    200     foo\n",
       "b     3    450     bar\n",
       "c     5    500  foobar\n",
       "d     6    200    item"
      ]
     },
     "execution_count": 14,
     "metadata": {},
     "output_type": "execute_result"
    }
   ],
   "source": [
    "data = {\"item\" : [1, 3, 5, 6], \"sales\" : [200, 450, 500, 200], \"product\" : [\"foo\", \"bar\", \"foobar\", \"item\"]}\n",
    "labels = [\"a\", \"b\", \"c\", \"d\"]\n",
    "df = pd.DataFrame(data=data, index=labels)\n",
    "df"
   ]
  },
  {
   "cell_type": "markdown",
   "metadata": {},
   "source": [
    "### display dataframe summary information"
   ]
  },
  {
   "cell_type": "code",
   "execution_count": 17,
   "metadata": {
    "ExecuteTime": {
     "end_time": "2020-03-27T00:04:09.301818Z",
     "start_time": "2020-03-27T00:04:09.269178Z"
    }
   },
   "outputs": [
    {
     "name": "stdout",
     "output_type": "stream",
     "text": [
      "           item       sales\n",
      "count  4.000000    4.000000\n",
      "mean   3.750000  337.500000\n",
      "std    2.217356  160.078106\n",
      "min    1.000000  200.000000\n",
      "25%    2.500000  200.000000\n",
      "50%    4.000000  325.000000\n",
      "75%    5.250000  462.500000\n",
      "max    6.000000  500.000000\n",
      "<class 'pandas.core.frame.DataFrame'>\n",
      "Index: 4 entries, a to d\n",
      "Data columns (total 3 columns):\n",
      "item       4 non-null int64\n",
      "sales      4 non-null int64\n",
      "product    4 non-null object\n",
      "dtypes: int64(2), object(1)\n",
      "memory usage: 128.0+ bytes\n",
      "None\n"
     ]
    }
   ],
   "source": [
    "data = {\"item\" : [1, 3, 5, 6], \"sales\" : [200, 450, 500, 200], \"product\" : [\"foo\", \"bar\", \"foobar\", \"item\"]}\n",
    "labels = [\"a\", \"b\", \"c\", \"d\"]\n",
    "df = pd.DataFrame(data=data, index=labels)\n",
    "print(df.describe())\n",
    "print(df.info())"
   ]
  },
  {
   "cell_type": "markdown",
   "metadata": {},
   "source": [
    "### get the first n rows of a dataframe"
   ]
  },
  {
   "cell_type": "code",
   "execution_count": 21,
   "metadata": {
    "ExecuteTime": {
     "end_time": "2020-03-27T00:07:51.927970Z",
     "start_time": "2020-03-27T00:07:51.911510Z"
    }
   },
   "outputs": [
    {
     "name": "stdout",
     "output_type": "stream",
     "text": [
      "   item  sales product\n",
      "0     1    200     foo\n",
      "1     3    450     bar\n",
      "   item  sales product\n",
      "0     1    200     foo\n",
      "1     3    450     bar\n"
     ]
    }
   ],
   "source": [
    "df = pd.DataFrame({\"item\" : [1, 3, 5, 6],\n",
    "                   \"sales\" : [200, 450, 500, 200],\n",
    "                   \"product\" : [\"foo\", \"bar\", \"foobar\", \"item\"]\n",
    "                  })\n",
    "print(df.head(2))\n",
    "    # or \n",
    "print(df.iloc[:2])"
   ]
  },
  {
   "cell_type": "markdown",
   "metadata": {},
   "source": [
    "### get specific n columns of a dataframe"
   ]
  },
  {
   "cell_type": "code",
   "execution_count": 22,
   "metadata": {
    "ExecuteTime": {
     "end_time": "2020-03-27T00:31:02.513356Z",
     "start_time": "2020-03-27T00:31:02.463319Z"
    }
   },
   "outputs": [
    {
     "data": {
      "text/html": [
       "<div>\n",
       "<style scoped>\n",
       "    .dataframe tbody tr th:only-of-type {\n",
       "        vertical-align: middle;\n",
       "    }\n",
       "\n",
       "    .dataframe tbody tr th {\n",
       "        vertical-align: top;\n",
       "    }\n",
       "\n",
       "    .dataframe thead th {\n",
       "        text-align: right;\n",
       "    }\n",
       "</style>\n",
       "<table border=\"1\" class=\"dataframe\">\n",
       "  <thead>\n",
       "    <tr style=\"text-align: right;\">\n",
       "      <th></th>\n",
       "      <th>item</th>\n",
       "      <th>product</th>\n",
       "    </tr>\n",
       "  </thead>\n",
       "  <tbody>\n",
       "    <tr>\n",
       "      <td>0</td>\n",
       "      <td>1</td>\n",
       "      <td>foo</td>\n",
       "    </tr>\n",
       "    <tr>\n",
       "      <td>1</td>\n",
       "      <td>3</td>\n",
       "      <td>bar</td>\n",
       "    </tr>\n",
       "    <tr>\n",
       "      <td>2</td>\n",
       "      <td>5</td>\n",
       "      <td>foobar</td>\n",
       "    </tr>\n",
       "    <tr>\n",
       "      <td>3</td>\n",
       "      <td>6</td>\n",
       "      <td>item</td>\n",
       "    </tr>\n",
       "  </tbody>\n",
       "</table>\n",
       "</div>"
      ],
      "text/plain": [
       "   item product\n",
       "0     1     foo\n",
       "1     3     bar\n",
       "2     5  foobar\n",
       "3     6    item"
      ]
     },
     "execution_count": 22,
     "metadata": {},
     "output_type": "execute_result"
    }
   ],
   "source": [
    "df = pd.DataFrame({\"item\" : [1, 3, 5, 6],\n",
    "                   \"sales\" : [200, 450, 500, 200],\n",
    "                   \"product\" : [\"foo\", \"bar\", \"foobar\", \"item\"]\n",
    "                  })\n",
    "df[[\"item\", \"product\"]]"
   ]
  },
  {
   "cell_type": "markdown",
   "metadata": {},
   "source": [
    "### select the specified columns and rows of a dataframe"
   ]
  },
  {
   "cell_type": "code",
   "execution_count": 28,
   "metadata": {
    "ExecuteTime": {
     "end_time": "2020-03-27T00:38:40.051541Z",
     "start_time": "2020-03-27T00:38:40.029085Z"
    }
   },
   "outputs": [
    {
     "name": "stdout",
     "output_type": "stream",
     "text": [
      "   item product\n",
      "a     1     foo\n",
      "c     5  foobar\n",
      "   item product\n",
      "a     1     foo\n",
      "c     5  foobar\n"
     ]
    }
   ],
   "source": [
    "data = {\"item\" : [1, 3, 5, 6], \"sales\" : [200, 450, 500, 200], \"product\" : [\"foo\", \"bar\", \"foobar\", \"item\"]}\n",
    "labels = [\"a\", \"b\", \"c\", \"d\"]\n",
    "df = pd.DataFrame(data=data, index=labels)\n",
    "\n",
    "# with loc (label)\n",
    "print(df.loc[[\"a\", \"c\"], [\"item\", \"product\"]])\n",
    "\n",
    "# with iloc (position)\n",
    "print(df.iloc[[0, 2], [0, 2]])"
   ]
  },
  {
   "cell_type": "markdown",
   "metadata": {},
   "source": [
    "### select rows where condition is met"
   ]
  },
  {
   "cell_type": "code",
   "execution_count": 33,
   "metadata": {
    "ExecuteTime": {
     "end_time": "2020-03-27T00:41:48.257642Z",
     "start_time": "2020-03-27T00:41:48.238874Z"
    },
    "collapsed": true
   },
   "outputs": [
    {
     "data": {
      "text/html": [
       "<div>\n",
       "<style scoped>\n",
       "    .dataframe tbody tr th:only-of-type {\n",
       "        vertical-align: middle;\n",
       "    }\n",
       "\n",
       "    .dataframe tbody tr th {\n",
       "        vertical-align: top;\n",
       "    }\n",
       "\n",
       "    .dataframe thead th {\n",
       "        text-align: right;\n",
       "    }\n",
       "</style>\n",
       "<table border=\"1\" class=\"dataframe\">\n",
       "  <thead>\n",
       "    <tr style=\"text-align: right;\">\n",
       "      <th></th>\n",
       "      <th>item</th>\n",
       "      <th>sales</th>\n",
       "      <th>product</th>\n",
       "    </tr>\n",
       "  </thead>\n",
       "  <tbody>\n",
       "    <tr>\n",
       "      <td>b</td>\n",
       "      <td>3</td>\n",
       "      <td>450</td>\n",
       "      <td>bar</td>\n",
       "    </tr>\n",
       "    <tr>\n",
       "      <td>c</td>\n",
       "      <td>5</td>\n",
       "      <td>500</td>\n",
       "      <td>foobar</td>\n",
       "    </tr>\n",
       "  </tbody>\n",
       "</table>\n",
       "</div>"
      ],
      "text/plain": [
       "   item  sales product\n",
       "b     3    450     bar\n",
       "c     5    500  foobar"
      ]
     },
     "execution_count": 33,
     "metadata": {},
     "output_type": "execute_result"
    }
   ],
   "source": [
    "data = {\"item\" : [1, 3, 5, 6], \"sales\" : [200, 450, 500, 200], \"product\" : [\"foo\", \"bar\", \"foobar\", \"item\"]}\n",
    "labels = [\"a\", \"b\", \"c\", \"d\"]\n",
    "df = pd.DataFrame(data=data, index=labels)\n",
    "\n",
    "df[df[\"sales\"] > 200]"
   ]
  },
  {
   "cell_type": "markdown",
   "metadata": {},
   "source": [
    "### count the number of rows and columns"
   ]
  },
  {
   "cell_type": "code",
   "execution_count": 41,
   "metadata": {
    "ExecuteTime": {
     "end_time": "2020-03-27T00:46:23.788124Z",
     "start_time": "2020-03-27T00:46:23.772369Z"
    }
   },
   "outputs": [
    {
     "name": "stdout",
     "output_type": "stream",
     "text": [
      "Rows: 4  Columns: 3\n"
     ]
    }
   ],
   "source": [
    "data = {\"item\" : [1, 3, 5, 6], \"sales\" : [200, 450, 500, 200], \"product\" : [\"foo\", \"bar\", \"foobar\", \"item\"]}\n",
    "labels = [\"a\", \"b\", \"c\", \"d\"]\n",
    "df = pd.DataFrame(data=data, index=labels)\n",
    "\n",
    "#axes[0] is rows, axes[1] is columns\n",
    "rows_count = len(df.axes[0])  \n",
    "column_count = len(df.axes[1])\n",
    "print(f\"Rows: {rows_count}  Columns: {column_count}\")"
   ]
  },
  {
   "cell_type": "markdown",
   "metadata": {},
   "source": [
    "### select NaN / null rows"
   ]
  },
  {
   "cell_type": "code",
   "execution_count": 7,
   "metadata": {
    "ExecuteTime": {
     "end_time": "2020-03-28T02:44:35.445539Z",
     "start_time": "2020-03-28T02:44:35.426582Z"
    }
   },
   "outputs": [
    {
     "data": {
      "text/html": [
       "<div>\n",
       "<style scoped>\n",
       "    .dataframe tbody tr th:only-of-type {\n",
       "        vertical-align: middle;\n",
       "    }\n",
       "\n",
       "    .dataframe tbody tr th {\n",
       "        vertical-align: top;\n",
       "    }\n",
       "\n",
       "    .dataframe thead th {\n",
       "        text-align: right;\n",
       "    }\n",
       "</style>\n",
       "<table border=\"1\" class=\"dataframe\">\n",
       "  <thead>\n",
       "    <tr style=\"text-align: right;\">\n",
       "      <th></th>\n",
       "      <th>name</th>\n",
       "      <th>score</th>\n",
       "      <th>attempts</th>\n",
       "      <th>qualify</th>\n",
       "    </tr>\n",
       "  </thead>\n",
       "  <tbody>\n",
       "    <tr>\n",
       "      <td>d</td>\n",
       "      <td>James</td>\n",
       "      <td>NaN</td>\n",
       "      <td>3</td>\n",
       "      <td>no</td>\n",
       "    </tr>\n",
       "    <tr>\n",
       "      <td>h</td>\n",
       "      <td>Laura</td>\n",
       "      <td>NaN</td>\n",
       "      <td>1</td>\n",
       "      <td>no</td>\n",
       "    </tr>\n",
       "  </tbody>\n",
       "</table>\n",
       "</div>"
      ],
      "text/plain": [
       "    name  score  attempts qualify\n",
       "d  James    NaN         3      no\n",
       "h  Laura    NaN         1      no"
      ]
     },
     "execution_count": 7,
     "metadata": {},
     "output_type": "execute_result"
    }
   ],
   "source": [
    "exam_data = {'name': ['Anastasia', 'Dima', 'Katherine', 'James', 'Emily', 'Michael', 'Matthew', 'Laura', 'Kevin', 'Jonas'],\n",
    "'score': [12.5, 9, 16.5, np.nan, 9, 20, 14.5, np.nan, 8, 19],\n",
    "'attempts': [1, 3, 2, 3, 2, 3, 1, 1, 2, 1],\n",
    "'qualify': ['yes', 'no', 'yes', 'no', 'no', 'yes', 'yes', 'no', 'no', 'yes']}\n",
    "labels = ['a', 'b', 'c', 'd', 'e', 'f', 'g', 'h', 'i', 'j']\n",
    "df = pd.DataFrame(data=exam_data, index=labels)\n",
    "\n",
    "df[df['score'].isnull()]"
   ]
  },
  {
   "cell_type": "markdown",
   "metadata": {},
   "source": [
    "### select rows between numeric range (single column)"
   ]
  },
  {
   "cell_type": "code",
   "execution_count": 12,
   "metadata": {
    "ExecuteTime": {
     "end_time": "2020-03-28T02:47:47.118880Z",
     "start_time": "2020-03-28T02:47:47.102038Z"
    }
   },
   "outputs": [
    {
     "data": {
      "text/html": [
       "<div>\n",
       "<style scoped>\n",
       "    .dataframe tbody tr th:only-of-type {\n",
       "        vertical-align: middle;\n",
       "    }\n",
       "\n",
       "    .dataframe tbody tr th {\n",
       "        vertical-align: top;\n",
       "    }\n",
       "\n",
       "    .dataframe thead th {\n",
       "        text-align: right;\n",
       "    }\n",
       "</style>\n",
       "<table border=\"1\" class=\"dataframe\">\n",
       "  <thead>\n",
       "    <tr style=\"text-align: right;\">\n",
       "      <th></th>\n",
       "      <th>item</th>\n",
       "      <th>sales</th>\n",
       "      <th>product</th>\n",
       "    </tr>\n",
       "  </thead>\n",
       "  <tbody>\n",
       "    <tr>\n",
       "      <td>b</td>\n",
       "      <td>3</td>\n",
       "      <td>450</td>\n",
       "      <td>bar</td>\n",
       "    </tr>\n",
       "    <tr>\n",
       "      <td>e</td>\n",
       "      <td>9</td>\n",
       "      <td>300</td>\n",
       "      <td>product</td>\n",
       "    </tr>\n",
       "  </tbody>\n",
       "</table>\n",
       "</div>"
      ],
      "text/plain": [
       "   item  sales  product\n",
       "b     3    450      bar\n",
       "e     9    300  product"
      ]
     },
     "execution_count": 12,
     "metadata": {},
     "output_type": "execute_result"
    }
   ],
   "source": [
    "data = {\"item\" : [1, 3, 5, 6, 9], \"sales\" : [200, 450, 500, 200, 300], \"product\" : [\"foo\", \"bar\", \"foobar\", \"item\", \"product\"]}\n",
    "labels = [\"a\", \"b\", \"c\", \"d\", \"e\"]\n",
    "df = pd.DataFrame(data=data, index=labels)\n",
    "\n",
    "df[(df[\"sales\"] > 250) & (df[\"sales\"] < 500)]"
   ]
  },
  {
   "cell_type": "markdown",
   "metadata": {},
   "source": [
    "### select rows for conditions in multiple columns"
   ]
  },
  {
   "cell_type": "code",
   "execution_count": 13,
   "metadata": {
    "ExecuteTime": {
     "end_time": "2020-03-28T02:50:35.673338Z",
     "start_time": "2020-03-28T02:50:35.661260Z"
    }
   },
   "outputs": [
    {
     "data": {
      "text/html": [
       "<div>\n",
       "<style scoped>\n",
       "    .dataframe tbody tr th:only-of-type {\n",
       "        vertical-align: middle;\n",
       "    }\n",
       "\n",
       "    .dataframe tbody tr th {\n",
       "        vertical-align: top;\n",
       "    }\n",
       "\n",
       "    .dataframe thead th {\n",
       "        text-align: right;\n",
       "    }\n",
       "</style>\n",
       "<table border=\"1\" class=\"dataframe\">\n",
       "  <thead>\n",
       "    <tr style=\"text-align: right;\">\n",
       "      <th></th>\n",
       "      <th>item</th>\n",
       "      <th>sales</th>\n",
       "      <th>cost</th>\n",
       "      <th>product</th>\n",
       "    </tr>\n",
       "  </thead>\n",
       "  <tbody>\n",
       "    <tr>\n",
       "      <td>b</td>\n",
       "      <td>3</td>\n",
       "      <td>450</td>\n",
       "      <td>150</td>\n",
       "      <td>bar</td>\n",
       "    </tr>\n",
       "    <tr>\n",
       "      <td>e</td>\n",
       "      <td>9</td>\n",
       "      <td>300</td>\n",
       "      <td>250</td>\n",
       "      <td>product</td>\n",
       "    </tr>\n",
       "  </tbody>\n",
       "</table>\n",
       "</div>"
      ],
      "text/plain": [
       "   item  sales  cost  product\n",
       "b     3    450   150      bar\n",
       "e     9    300   250  product"
      ]
     },
     "execution_count": 13,
     "metadata": {},
     "output_type": "execute_result"
    }
   ],
   "source": [
    "data = {\"item\" : [1, 3, 5, 6, 9], \"sales\" : [200, 450, 500, 200, 300], \"cost\" : [50, 150, 300, 150, 250],\n",
    "        \"product\" : [\"foo\", \"bar\", \"foobar\", \"item\", \"product\"]}\n",
    "labels = [\"a\", \"b\", \"c\", \"d\", \"e\"]\n",
    "df = pd.DataFrame(data=data, index=labels)\n",
    "\n",
    "df[(df[\"sales\"] > 250) & (df[\"cost\"] < 300)]"
   ]
  },
  {
   "cell_type": "markdown",
   "metadata": {},
   "source": [
    "### change value in specific cell (row and column)"
   ]
  },
  {
   "cell_type": "markdown",
   "metadata": {
    "ExecuteTime": {
     "end_time": "2020-03-28T02:52:54.421960Z",
     "start_time": "2020-03-28T02:52:54.409992Z"
    }
   },
   "source": [
    "data = {\"item\" : [1, 3, 5, 6, 9], \"sales\" : [200, 450, 500, 200, 300], \"cost\" : [50, 150, 300, 150, 250],\n",
    "        \"product\" : [\"foo\", \"bar\", \"foobar\", \"item\", \"product\"]}\n",
    "labels = [\"a\", \"b\", \"c\", \"d\", \"e\"]\n",
    "df = pd.DataFrame(data=data, index=labels)\n",
    "\n",
    "df.loc[\"d\", \"sales\"] = 999\n",
    "df"
   ]
  },
  {
   "cell_type": "markdown",
   "metadata": {},
   "source": [
    "### calculate sum of a column"
   ]
  },
  {
   "cell_type": "code",
   "execution_count": 20,
   "metadata": {
    "ExecuteTime": {
     "end_time": "2020-03-28T02:55:04.738444Z",
     "start_time": "2020-03-28T02:55:04.730281Z"
    }
   },
   "outputs": [
    {
     "data": {
      "text/plain": [
       "1650"
      ]
     },
     "execution_count": 20,
     "metadata": {},
     "output_type": "execute_result"
    }
   ],
   "source": [
    "data = {\"item\" : [1, 3, 5, 6, 9], \"sales\" : [200, 450, 500, 200, 300], \"cost\" : [50, 150, 300, 150, 250],\n",
    "        \"product\" : [\"foo\", \"bar\", \"foobar\", \"item\", \"product\"]}\n",
    "labels = [\"a\", \"b\", \"c\", \"d\", \"e\"]\n",
    "df = pd.DataFrame(data=data, index=labels)\n",
    "\n",
    "total_sales = df[\"sales\"].sum()\n",
    "total_sales"
   ]
  },
  {
   "cell_type": "markdown",
   "metadata": {},
   "source": [
    "### calculate mean of a column"
   ]
  },
  {
   "cell_type": "code",
   "execution_count": 21,
   "metadata": {
    "ExecuteTime": {
     "end_time": "2020-03-28T02:55:28.215590Z",
     "start_time": "2020-03-28T02:55:28.204623Z"
    }
   },
   "outputs": [
    {
     "data": {
      "text/plain": [
       "330.0"
      ]
     },
     "execution_count": 21,
     "metadata": {},
     "output_type": "execute_result"
    }
   ],
   "source": [
    "data = {\"item\" : [1, 3, 5, 6, 9], \"sales\" : [200, 450, 500, 200, 300], \"cost\" : [50, 150, 300, 150, 250],\n",
    "        \"product\" : [\"foo\", \"bar\", \"foobar\", \"item\", \"product\"]}\n",
    "labels = [\"a\", \"b\", \"c\", \"d\", \"e\"]\n",
    "df = pd.DataFrame(data=data, index=labels)\n",
    "\n",
    "avg_sales = df[\"sales\"].mean()\n",
    "avg_sales"
   ]
  },
  {
   "cell_type": "markdown",
   "metadata": {},
   "source": [
    "### add new row to dataframe"
   ]
  },
  {
   "cell_type": "code",
   "execution_count": 25,
   "metadata": {
    "ExecuteTime": {
     "end_time": "2020-03-28T02:58:30.119784Z",
     "start_time": "2020-03-28T02:58:30.093849Z"
    }
   },
   "outputs": [
    {
     "data": {
      "text/html": [
       "<div>\n",
       "<style scoped>\n",
       "    .dataframe tbody tr th:only-of-type {\n",
       "        vertical-align: middle;\n",
       "    }\n",
       "\n",
       "    .dataframe tbody tr th {\n",
       "        vertical-align: top;\n",
       "    }\n",
       "\n",
       "    .dataframe thead th {\n",
       "        text-align: right;\n",
       "    }\n",
       "</style>\n",
       "<table border=\"1\" class=\"dataframe\">\n",
       "  <thead>\n",
       "    <tr style=\"text-align: right;\">\n",
       "      <th></th>\n",
       "      <th>item</th>\n",
       "      <th>sales</th>\n",
       "      <th>cost</th>\n",
       "      <th>product</th>\n",
       "    </tr>\n",
       "  </thead>\n",
       "  <tbody>\n",
       "    <tr>\n",
       "      <td>a</td>\n",
       "      <td>1</td>\n",
       "      <td>200</td>\n",
       "      <td>50</td>\n",
       "      <td>foo</td>\n",
       "    </tr>\n",
       "    <tr>\n",
       "      <td>b</td>\n",
       "      <td>3</td>\n",
       "      <td>450</td>\n",
       "      <td>150</td>\n",
       "      <td>bar</td>\n",
       "    </tr>\n",
       "    <tr>\n",
       "      <td>c</td>\n",
       "      <td>5</td>\n",
       "      <td>500</td>\n",
       "      <td>300</td>\n",
       "      <td>foobar</td>\n",
       "    </tr>\n",
       "    <tr>\n",
       "      <td>d</td>\n",
       "      <td>6</td>\n",
       "      <td>200</td>\n",
       "      <td>150</td>\n",
       "      <td>item</td>\n",
       "    </tr>\n",
       "    <tr>\n",
       "      <td>e</td>\n",
       "      <td>9</td>\n",
       "      <td>300</td>\n",
       "      <td>250</td>\n",
       "      <td>product</td>\n",
       "    </tr>\n",
       "    <tr>\n",
       "      <td>f</td>\n",
       "      <td>10</td>\n",
       "      <td>999</td>\n",
       "      <td>499</td>\n",
       "      <td>new item</td>\n",
       "    </tr>\n",
       "  </tbody>\n",
       "</table>\n",
       "</div>"
      ],
      "text/plain": [
       "  item  sales  cost   product\n",
       "a    1    200    50       foo\n",
       "b    3    450   150       bar\n",
       "c    5    500   300    foobar\n",
       "d    6    200   150      item\n",
       "e    9    300   250   product\n",
       "f   10    999   499  new item"
      ]
     },
     "execution_count": 25,
     "metadata": {},
     "output_type": "execute_result"
    }
   ],
   "source": [
    "data = {\"item\" : [1, 3, 5, 6, 9], \"sales\" : [200, 450, 500, 200, 300], \"cost\" : [50, 150, 300, 150, 250],\n",
    "        \"product\" : [\"foo\", \"bar\", \"foobar\", \"item\", \"product\"]}\n",
    "labels = [\"a\", \"b\", \"c\", \"d\", \"e\"]\n",
    "df = pd.DataFrame(data=data, index=labels)\n",
    "\n",
    "df.loc[\"f\"] = [\"10\", 999, 499, \"new item\"]\n",
    "df"
   ]
  },
  {
   "cell_type": "markdown",
   "metadata": {},
   "source": [
    "### sort a dataframe"
   ]
  },
  {
   "cell_type": "code",
   "execution_count": 30,
   "metadata": {
    "ExecuteTime": {
     "end_time": "2020-03-28T03:01:46.665044Z",
     "start_time": "2020-03-28T03:01:46.651082Z"
    }
   },
   "outputs": [
    {
     "data": {
      "text/html": [
       "<div>\n",
       "<style scoped>\n",
       "    .dataframe tbody tr th:only-of-type {\n",
       "        vertical-align: middle;\n",
       "    }\n",
       "\n",
       "    .dataframe tbody tr th {\n",
       "        vertical-align: top;\n",
       "    }\n",
       "\n",
       "    .dataframe thead th {\n",
       "        text-align: right;\n",
       "    }\n",
       "</style>\n",
       "<table border=\"1\" class=\"dataframe\">\n",
       "  <thead>\n",
       "    <tr style=\"text-align: right;\">\n",
       "      <th></th>\n",
       "      <th>item</th>\n",
       "      <th>sales</th>\n",
       "      <th>cost</th>\n",
       "      <th>product</th>\n",
       "    </tr>\n",
       "  </thead>\n",
       "  <tbody>\n",
       "    <tr>\n",
       "      <td>a</td>\n",
       "      <td>1</td>\n",
       "      <td>200</td>\n",
       "      <td>50</td>\n",
       "      <td>foo</td>\n",
       "    </tr>\n",
       "    <tr>\n",
       "      <td>d</td>\n",
       "      <td>6</td>\n",
       "      <td>200</td>\n",
       "      <td>150</td>\n",
       "      <td>item</td>\n",
       "    </tr>\n",
       "    <tr>\n",
       "      <td>e</td>\n",
       "      <td>9</td>\n",
       "      <td>300</td>\n",
       "      <td>250</td>\n",
       "      <td>product</td>\n",
       "    </tr>\n",
       "    <tr>\n",
       "      <td>b</td>\n",
       "      <td>3</td>\n",
       "      <td>450</td>\n",
       "      <td>150</td>\n",
       "      <td>bar</td>\n",
       "    </tr>\n",
       "    <tr>\n",
       "      <td>c</td>\n",
       "      <td>5</td>\n",
       "      <td>500</td>\n",
       "      <td>300</td>\n",
       "      <td>foobar</td>\n",
       "    </tr>\n",
       "  </tbody>\n",
       "</table>\n",
       "</div>"
      ],
      "text/plain": [
       "   item  sales  cost  product\n",
       "a     1    200    50      foo\n",
       "d     6    200   150     item\n",
       "e     9    300   250  product\n",
       "b     3    450   150      bar\n",
       "c     5    500   300   foobar"
      ]
     },
     "execution_count": 30,
     "metadata": {},
     "output_type": "execute_result"
    }
   ],
   "source": [
    "data = {\"item\" : [1, 3, 5, 6, 9], \"sales\" : [200, 450, 500, 200, 300], \"cost\" : [50, 150, 300, 150, 250],\n",
    "        \"product\" : [\"foo\", \"bar\", \"foobar\", \"item\", \"product\"]}\n",
    "labels = [\"a\", \"b\", \"c\", \"d\", \"e\"]\n",
    "df = pd.DataFrame(data=data, index=labels)\n",
    "\n",
    "df.sort_values(by=[\"sales\", \"cost\"], ascending=[True, True])"
   ]
  },
  {
   "cell_type": "markdown",
   "metadata": {},
   "source": [
    "### replace values in a column with a new value (.loc, .map)"
   ]
  },
  {
   "cell_type": "code",
   "execution_count": 39,
   "metadata": {
    "ExecuteTime": {
     "end_time": "2020-03-28T03:11:01.568092Z",
     "start_time": "2020-03-28T03:11:01.555125Z"
    }
   },
   "outputs": [
    {
     "name": "stdout",
     "output_type": "stream",
     "text": [
      "   item  sales  cost  category\n",
      "a     1    200    50      food\n",
      "b     3    450   150  beverage\n",
      "c     5    500   300  beverage\n",
      "d     6    200   150  beverage\n",
      "e     9    300   250      food\n",
      "   item  sales  cost category\n",
      "a     1    200    50     food\n",
      "b     3    450   150    drink\n",
      "c     5    500   300    drink\n",
      "d     6    200   150    drink\n",
      "e     9    300   250     food\n"
     ]
    }
   ],
   "source": [
    "data = {\"item\" : [1, 3, 5, 6, 9], \"sales\" : [200, 450, 500, 200, 300], \"cost\" : [50, 150, 300, 150, 250],\n",
    "        \"category\" : [\"fd\", \"bev\", \"bev\", \"bev\", \"fd\"]}\n",
    "labels = [\"a\", \"b\", \"c\", \"d\", \"e\"]\n",
    "df = pd.DataFrame(data=data, index=labels)\n",
    "\n",
    "# map all categories using map\n",
    "df[\"category\"] = df[\"category\"].map({\"bev\" : \"beverage\", \"fd\" : \"food\"})\n",
    "print(df)\n",
    "\n",
    "# change one value based on condition using loc\n",
    "df.loc[(df[\"category\"] == \"beverage\"), \"category\"] = \"drink\"\n",
    "print(df)"
   ]
  },
  {
   "cell_type": "markdown",
   "metadata": {},
   "source": [
    "### replace values in a column with a new value (.replace)"
   ]
  },
  {
   "cell_type": "code",
   "execution_count": 41,
   "metadata": {
    "ExecuteTime": {
     "end_time": "2020-03-28T03:13:28.710246Z",
     "start_time": "2020-03-28T03:13:28.699275Z"
    }
   },
   "outputs": [
    {
     "data": {
      "text/html": [
       "<div>\n",
       "<style scoped>\n",
       "    .dataframe tbody tr th:only-of-type {\n",
       "        vertical-align: middle;\n",
       "    }\n",
       "\n",
       "    .dataframe tbody tr th {\n",
       "        vertical-align: top;\n",
       "    }\n",
       "\n",
       "    .dataframe thead th {\n",
       "        text-align: right;\n",
       "    }\n",
       "</style>\n",
       "<table border=\"1\" class=\"dataframe\">\n",
       "  <thead>\n",
       "    <tr style=\"text-align: right;\">\n",
       "      <th></th>\n",
       "      <th>item</th>\n",
       "      <th>sales</th>\n",
       "      <th>cost</th>\n",
       "      <th>category</th>\n",
       "    </tr>\n",
       "  </thead>\n",
       "  <tbody>\n",
       "    <tr>\n",
       "      <td>a</td>\n",
       "      <td>1</td>\n",
       "      <td>200</td>\n",
       "      <td>50</td>\n",
       "      <td>food</td>\n",
       "    </tr>\n",
       "    <tr>\n",
       "      <td>b</td>\n",
       "      <td>3</td>\n",
       "      <td>450</td>\n",
       "      <td>150</td>\n",
       "      <td>bev</td>\n",
       "    </tr>\n",
       "    <tr>\n",
       "      <td>c</td>\n",
       "      <td>5</td>\n",
       "      <td>500</td>\n",
       "      <td>300</td>\n",
       "      <td>bev</td>\n",
       "    </tr>\n",
       "    <tr>\n",
       "      <td>d</td>\n",
       "      <td>6</td>\n",
       "      <td>200</td>\n",
       "      <td>150</td>\n",
       "      <td>bev</td>\n",
       "    </tr>\n",
       "    <tr>\n",
       "      <td>e</td>\n",
       "      <td>9</td>\n",
       "      <td>300</td>\n",
       "      <td>250</td>\n",
       "      <td>food</td>\n",
       "    </tr>\n",
       "  </tbody>\n",
       "</table>\n",
       "</div>"
      ],
      "text/plain": [
       "   item  sales  cost category\n",
       "a     1    200    50     food\n",
       "b     3    450   150      bev\n",
       "c     5    500   300      bev\n",
       "d     6    200   150      bev\n",
       "e     9    300   250     food"
      ]
     },
     "execution_count": 41,
     "metadata": {},
     "output_type": "execute_result"
    }
   ],
   "source": [
    "data = {\"item\" : [1, 3, 5, 6, 9], \"sales\" : [200, 450, 500, 200, 300], \"cost\" : [50, 150, 300, 150, 250],\n",
    "        \"category\" : [\"fd\", \"bev\", \"bev\", \"bev\", \"fd\"]}\n",
    "labels = [\"a\", \"b\", \"c\", \"d\", \"e\"]\n",
    "df = pd.DataFrame(data=data, index=labels)\n",
    "\n",
    "df[\"category\"] = df[\"category\"].replace(\"fd\", \"food\")\n",
    "df"
   ]
  },
  {
   "cell_type": "markdown",
   "metadata": {},
   "source": [
    "### delete column from dataframe (.drop, .pop)"
   ]
  },
  {
   "cell_type": "code",
   "execution_count": 49,
   "metadata": {
    "ExecuteTime": {
     "end_time": "2020-03-28T15:35:43.102119Z",
     "start_time": "2020-03-28T15:35:43.091177Z"
    }
   },
   "outputs": [
    {
     "name": "stdout",
     "output_type": "stream",
     "text": [
      "   item  sales  cost  count\n",
      "0     1    200    50      6\n",
      "1     3    450   150     51\n",
      "2     5    500   300     21\n",
      "3     6    200   150     19\n",
      "4     9    300   250     12\n",
      "   item  sales\n",
      "0     1    200\n",
      "1     3    450\n",
      "2     5    500\n",
      "3     6    200\n",
      "4     9    300\n"
     ]
    }
   ],
   "source": [
    "df = pd.DataFrame({\"item\" : [1, 3, 5, 6, 9], \"sales\" : [200, 450, 500, 200, 300], \"cost\" : [50, 150, 300, 150, 250],\n",
    "        \"category\" : [\"fd\", \"bev\", \"bev\", \"bev\", \"fd\"], \"count\" : [6, 51, 21, 19, 12]})\n",
    "\n",
    "df.pop(\"category\")\n",
    "print(df)\n",
    "\n",
    "#or \n",
    "\n",
    "df = df.drop([\"cost\", \"count\"], axis=1)\n",
    "print(df)"
   ]
  },
  {
   "cell_type": "markdown",
   "metadata": {
    "ExecuteTime": {
     "end_time": "2020-03-28T15:38:31.015762Z",
     "start_time": "2020-03-28T15:38:31.012771Z"
    }
   },
   "source": [
    "### insert a new column"
   ]
  },
  {
   "cell_type": "code",
   "execution_count": 53,
   "metadata": {
    "ExecuteTime": {
     "end_time": "2020-03-28T15:40:03.835936Z",
     "start_time": "2020-03-28T15:40:03.822009Z"
    }
   },
   "outputs": [
    {
     "data": {
      "text/html": [
       "<div>\n",
       "<style scoped>\n",
       "    .dataframe tbody tr th:only-of-type {\n",
       "        vertical-align: middle;\n",
       "    }\n",
       "\n",
       "    .dataframe tbody tr th {\n",
       "        vertical-align: top;\n",
       "    }\n",
       "\n",
       "    .dataframe thead th {\n",
       "        text-align: right;\n",
       "    }\n",
       "</style>\n",
       "<table border=\"1\" class=\"dataframe\">\n",
       "  <thead>\n",
       "    <tr style=\"text-align: right;\">\n",
       "      <th></th>\n",
       "      <th>item</th>\n",
       "      <th>sales</th>\n",
       "      <th>cost</th>\n",
       "      <th>category</th>\n",
       "      <th>count</th>\n",
       "    </tr>\n",
       "  </thead>\n",
       "  <tbody>\n",
       "    <tr>\n",
       "      <td>0</td>\n",
       "      <td>1</td>\n",
       "      <td>200</td>\n",
       "      <td>50</td>\n",
       "      <td>fd</td>\n",
       "      <td>6</td>\n",
       "    </tr>\n",
       "    <tr>\n",
       "      <td>1</td>\n",
       "      <td>3</td>\n",
       "      <td>450</td>\n",
       "      <td>150</td>\n",
       "      <td>bev</td>\n",
       "      <td>51</td>\n",
       "    </tr>\n",
       "    <tr>\n",
       "      <td>2</td>\n",
       "      <td>5</td>\n",
       "      <td>500</td>\n",
       "      <td>300</td>\n",
       "      <td>bev</td>\n",
       "      <td>21</td>\n",
       "    </tr>\n",
       "    <tr>\n",
       "      <td>3</td>\n",
       "      <td>6</td>\n",
       "      <td>200</td>\n",
       "      <td>150</td>\n",
       "      <td>bev</td>\n",
       "      <td>19</td>\n",
       "    </tr>\n",
       "    <tr>\n",
       "      <td>4</td>\n",
       "      <td>9</td>\n",
       "      <td>300</td>\n",
       "      <td>250</td>\n",
       "      <td>fd</td>\n",
       "      <td>12</td>\n",
       "    </tr>\n",
       "  </tbody>\n",
       "</table>\n",
       "</div>"
      ],
      "text/plain": [
       "   item  sales  cost category  count\n",
       "0     1    200    50       fd      6\n",
       "1     3    450   150      bev     51\n",
       "2     5    500   300      bev     21\n",
       "3     6    200   150      bev     19\n",
       "4     9    300   250       fd     12"
      ]
     },
     "execution_count": 53,
     "metadata": {},
     "output_type": "execute_result"
    }
   ],
   "source": [
    "df = pd.DataFrame({\"item\" : [1, 3, 5, 6, 9], \"sales\" : [200, 450, 500, 200, 300], \"cost\" : [50, 150, 300, 150, 250],\n",
    "        \"category\" : [\"fd\", \"bev\", \"bev\", \"bev\", \"fd\"]})\n",
    "\n",
    "df[\"count\"] = [6, 51, 21, 19, 12]\n",
    "df"
   ]
  },
  {
   "cell_type": "markdown",
   "metadata": {},
   "source": [
    "### iterate over rows in a dataframe\n",
    "df.iterrows() Iterate over DataFrame rows as (index, Series) pairs."
   ]
  },
  {
   "cell_type": "code",
   "execution_count": 57,
   "metadata": {
    "ExecuteTime": {
     "end_time": "2020-03-28T15:47:07.772354Z",
     "start_time": "2020-03-28T15:47:07.763410Z"
    }
   },
   "outputs": [
    {
     "name": "stdout",
     "output_type": "stream",
     "text": [
      "foo costs: $50\n",
      "bar costs: $150\n",
      "foobar costs: $300\n",
      "item costs: $150\n",
      "tv costs: $250\n"
     ]
    }
   ],
   "source": [
    "df = pd.DataFrame({\"item\" : [1, 3, 5, 6, 9], \"sales\" : [200, 450, 500, 200, 300], \"cost\" : [50, 150, 300, 150, 250],\n",
    "        \"product\" : [\"foo\", \"bar\", \"foobar\", \"item\", \"tv\"], \"category\" : [\"fd\", \"bev\", \"bev\", \"bev\", \"fd\"]})\n",
    "\n",
    "for index, row in df.iterrows():\n",
    "    print(f\"{row['product']} costs: ${row['cost']}\")"
   ]
  },
  {
   "cell_type": "markdown",
   "metadata": {
    "ExecuteTime": {
     "end_time": "2020-03-28T15:47:02.704735Z",
     "start_time": "2020-03-28T15:47:02.700770Z"
    }
   },
   "source": [
    "### get list of dataframe column headers"
   ]
  },
  {
   "cell_type": "code",
   "execution_count": 61,
   "metadata": {
    "ExecuteTime": {
     "end_time": "2020-03-28T19:09:33.421404Z",
     "start_time": "2020-03-28T19:09:33.407212Z"
    }
   },
   "outputs": [
    {
     "data": {
      "text/plain": [
       "array(['item', 'sales', 'cost', 'product', 'category'], dtype=object)"
      ]
     },
     "execution_count": 61,
     "metadata": {},
     "output_type": "execute_result"
    }
   ],
   "source": [
    "df = pd.DataFrame({\"item\" : [1, 3, 5, 6, 9], \"sales\" : [200, 450, 500, 200, 300], \"cost\" : [50, 150, 300, 150, 250],\n",
    "        \"product\" : [\"foo\", \"bar\", \"foobar\", \"item\", \"tv\"], \"category\" : [\"fd\", \"bev\", \"bev\", \"bev\", \"fd\"]})\n",
    "\n",
    "df.columns.values"
   ]
  },
  {
   "cell_type": "markdown",
   "metadata": {},
   "source": [
    "### rename columns of a given dataframe"
   ]
  },
  {
   "cell_type": "code",
   "execution_count": 63,
   "metadata": {
    "ExecuteTime": {
     "end_time": "2020-03-28T19:16:14.270996Z",
     "start_time": "2020-03-28T19:16:14.249073Z"
    }
   },
   "outputs": [
    {
     "data": {
      "text/html": [
       "<div>\n",
       "<style scoped>\n",
       "    .dataframe tbody tr th:only-of-type {\n",
       "        vertical-align: middle;\n",
       "    }\n",
       "\n",
       "    .dataframe tbody tr th {\n",
       "        vertical-align: top;\n",
       "    }\n",
       "\n",
       "    .dataframe thead th {\n",
       "        text-align: right;\n",
       "    }\n",
       "</style>\n",
       "<table border=\"1\" class=\"dataframe\">\n",
       "  <thead>\n",
       "    <tr style=\"text-align: right;\">\n",
       "      <th></th>\n",
       "      <th>Column1</th>\n",
       "      <th>Column2</th>\n",
       "      <th>Column3</th>\n",
       "      <th>Column4</th>\n",
       "      <th>Column5</th>\n",
       "    </tr>\n",
       "  </thead>\n",
       "  <tbody>\n",
       "    <tr>\n",
       "      <td>0</td>\n",
       "      <td>1</td>\n",
       "      <td>200</td>\n",
       "      <td>50</td>\n",
       "      <td>foo</td>\n",
       "      <td>fd</td>\n",
       "    </tr>\n",
       "    <tr>\n",
       "      <td>1</td>\n",
       "      <td>3</td>\n",
       "      <td>450</td>\n",
       "      <td>150</td>\n",
       "      <td>bar</td>\n",
       "      <td>bev</td>\n",
       "    </tr>\n",
       "    <tr>\n",
       "      <td>2</td>\n",
       "      <td>5</td>\n",
       "      <td>500</td>\n",
       "      <td>300</td>\n",
       "      <td>foobar</td>\n",
       "      <td>bev</td>\n",
       "    </tr>\n",
       "    <tr>\n",
       "      <td>3</td>\n",
       "      <td>6</td>\n",
       "      <td>200</td>\n",
       "      <td>150</td>\n",
       "      <td>item</td>\n",
       "      <td>bev</td>\n",
       "    </tr>\n",
       "    <tr>\n",
       "      <td>4</td>\n",
       "      <td>9</td>\n",
       "      <td>300</td>\n",
       "      <td>250</td>\n",
       "      <td>tv</td>\n",
       "      <td>fd</td>\n",
       "    </tr>\n",
       "  </tbody>\n",
       "</table>\n",
       "</div>"
      ],
      "text/plain": [
       "   Column1  Column2  Column3 Column4 Column5\n",
       "0        1      200       50     foo      fd\n",
       "1        3      450      150     bar     bev\n",
       "2        5      500      300  foobar     bev\n",
       "3        6      200      150    item     bev\n",
       "4        9      300      250      tv      fd"
      ]
     },
     "execution_count": 63,
     "metadata": {},
     "output_type": "execute_result"
    }
   ],
   "source": [
    "df = pd.DataFrame({\"item\" : [1, 3, 5, 6, 9], \"sales\" : [200, 450, 500, 200, 300], \"cost\" : [50, 150, 300, 150, 250],\n",
    "        \"product\" : [\"foo\", \"bar\", \"foobar\", \"item\", \"tv\"], \"category\" : [\"fd\", \"bev\", \"bev\", \"bev\", \"fd\"]})\n",
    "\n",
    "df.columns = ['Column1', 'Column2', 'Column3', 'Column4', 'Column5']\n",
    "df"
   ]
  },
  {
   "cell_type": "markdown",
   "metadata": {},
   "source": [
    "### rename specific column"
   ]
  },
  {
   "cell_type": "code",
   "execution_count": 73,
   "metadata": {
    "ExecuteTime": {
     "end_time": "2020-03-30T00:14:16.542331Z",
     "start_time": "2020-03-30T00:14:16.529366Z"
    }
   },
   "outputs": [
    {
     "data": {
      "text/html": [
       "<div>\n",
       "<style scoped>\n",
       "    .dataframe tbody tr th:only-of-type {\n",
       "        vertical-align: middle;\n",
       "    }\n",
       "\n",
       "    .dataframe tbody tr th {\n",
       "        vertical-align: top;\n",
       "    }\n",
       "\n",
       "    .dataframe thead th {\n",
       "        text-align: right;\n",
       "    }\n",
       "</style>\n",
       "<table border=\"1\" class=\"dataframe\">\n",
       "  <thead>\n",
       "    <tr style=\"text-align: right;\">\n",
       "      <th></th>\n",
       "      <th>item</th>\n",
       "      <th>sales</th>\n",
       "      <th>cost</th>\n",
       "      <th>product</th>\n",
       "      <th>retail_category</th>\n",
       "    </tr>\n",
       "  </thead>\n",
       "  <tbody>\n",
       "    <tr>\n",
       "      <td>0</td>\n",
       "      <td>1</td>\n",
       "      <td>200</td>\n",
       "      <td>50</td>\n",
       "      <td>foo</td>\n",
       "      <td>fd</td>\n",
       "    </tr>\n",
       "    <tr>\n",
       "      <td>1</td>\n",
       "      <td>3</td>\n",
       "      <td>450</td>\n",
       "      <td>150</td>\n",
       "      <td>bar</td>\n",
       "      <td>bev</td>\n",
       "    </tr>\n",
       "    <tr>\n",
       "      <td>2</td>\n",
       "      <td>5</td>\n",
       "      <td>500</td>\n",
       "      <td>300</td>\n",
       "      <td>foobar</td>\n",
       "      <td>bev</td>\n",
       "    </tr>\n",
       "    <tr>\n",
       "      <td>3</td>\n",
       "      <td>6</td>\n",
       "      <td>200</td>\n",
       "      <td>150</td>\n",
       "      <td>item</td>\n",
       "      <td>bev</td>\n",
       "    </tr>\n",
       "    <tr>\n",
       "      <td>4</td>\n",
       "      <td>9</td>\n",
       "      <td>300</td>\n",
       "      <td>250</td>\n",
       "      <td>tv</td>\n",
       "      <td>fd</td>\n",
       "    </tr>\n",
       "  </tbody>\n",
       "</table>\n",
       "</div>"
      ],
      "text/plain": [
       "   item  sales  cost product retail_category\n",
       "0     1    200    50     foo              fd\n",
       "1     3    450   150     bar             bev\n",
       "2     5    500   300  foobar             bev\n",
       "3     6    200   150    item             bev\n",
       "4     9    300   250      tv              fd"
      ]
     },
     "execution_count": 73,
     "metadata": {},
     "output_type": "execute_result"
    }
   ],
   "source": [
    "df = pd.DataFrame({\"item\" : [1, 3, 5, 6, 9], \"sales\" : [200, 450, 500, 200, 300], \"cost\" : [50, 150, 300, 150, 250],\n",
    "        \"product\" : [\"foo\", \"bar\", \"foobar\", \"item\", \"tv\"], \"category\" : [\"fd\", \"bev\", \"bev\", \"bev\", \"fd\"]})\n",
    "\n",
    "df = df.rename(columns = {\"category\" : \"retail_category\"})\n",
    "df"
   ]
  },
  {
   "cell_type": "markdown",
   "metadata": {},
   "source": [
    "### change the order of columns"
   ]
  },
  {
   "cell_type": "code",
   "execution_count": 66,
   "metadata": {
    "ExecuteTime": {
     "end_time": "2020-03-28T19:31:27.017170Z",
     "start_time": "2020-03-28T19:31:26.996068Z"
    }
   },
   "outputs": [
    {
     "data": {
      "text/html": [
       "<div>\n",
       "<style scoped>\n",
       "    .dataframe tbody tr th:only-of-type {\n",
       "        vertical-align: middle;\n",
       "    }\n",
       "\n",
       "    .dataframe tbody tr th {\n",
       "        vertical-align: top;\n",
       "    }\n",
       "\n",
       "    .dataframe thead th {\n",
       "        text-align: right;\n",
       "    }\n",
       "</style>\n",
       "<table border=\"1\" class=\"dataframe\">\n",
       "  <thead>\n",
       "    <tr style=\"text-align: right;\">\n",
       "      <th></th>\n",
       "      <th>item</th>\n",
       "      <th>product</th>\n",
       "      <th>category</th>\n",
       "      <th>sales</th>\n",
       "      <th>cost</th>\n",
       "    </tr>\n",
       "  </thead>\n",
       "  <tbody>\n",
       "    <tr>\n",
       "      <td>0</td>\n",
       "      <td>1</td>\n",
       "      <td>foo</td>\n",
       "      <td>fd</td>\n",
       "      <td>200</td>\n",
       "      <td>50</td>\n",
       "    </tr>\n",
       "    <tr>\n",
       "      <td>1</td>\n",
       "      <td>3</td>\n",
       "      <td>bar</td>\n",
       "      <td>bev</td>\n",
       "      <td>450</td>\n",
       "      <td>150</td>\n",
       "    </tr>\n",
       "    <tr>\n",
       "      <td>2</td>\n",
       "      <td>5</td>\n",
       "      <td>foobar</td>\n",
       "      <td>bev</td>\n",
       "      <td>500</td>\n",
       "      <td>300</td>\n",
       "    </tr>\n",
       "    <tr>\n",
       "      <td>3</td>\n",
       "      <td>6</td>\n",
       "      <td>item</td>\n",
       "      <td>bev</td>\n",
       "      <td>200</td>\n",
       "      <td>150</td>\n",
       "    </tr>\n",
       "    <tr>\n",
       "      <td>4</td>\n",
       "      <td>9</td>\n",
       "      <td>tv</td>\n",
       "      <td>fd</td>\n",
       "      <td>300</td>\n",
       "      <td>250</td>\n",
       "    </tr>\n",
       "  </tbody>\n",
       "</table>\n",
       "</div>"
      ],
      "text/plain": [
       "   item product category  sales  cost\n",
       "0     1     foo       fd    200    50\n",
       "1     3     bar      bev    450   150\n",
       "2     5  foobar      bev    500   300\n",
       "3     6    item      bev    200   150\n",
       "4     9      tv       fd    300   250"
      ]
     },
     "execution_count": 66,
     "metadata": {},
     "output_type": "execute_result"
    }
   ],
   "source": [
    "df = pd.DataFrame({\"item\" : [1, 3, 5, 6, 9], \"sales\" : [200, 450, 500, 200, 300], \"cost\" : [50, 150, 300, 150, 250],\n",
    "        \"product\" : [\"foo\", \"bar\", \"foobar\", \"item\", \"tv\"], \"category\" : [\"fd\", \"bev\", \"bev\", \"bev\", \"fd\"]})\n",
    "\n",
    "df[[\"item\", \"product\", \"category\", \"sales\", \"cost\"]]"
   ]
  },
  {
   "cell_type": "markdown",
   "metadata": {},
   "source": [
    "### write to csv"
   ]
  },
  {
   "cell_type": "code",
   "execution_count": 11,
   "metadata": {
    "ExecuteTime": {
     "end_time": "2020-03-28T23:19:26.654852Z",
     "start_time": "2020-03-28T23:19:26.645878Z"
    }
   },
   "outputs": [],
   "source": [
    "df = pd.DataFrame({\"item\" : [1, 3, 5, 6, 9], \"sales\" : [200, 450, 500, 200, 300], \"cost\" : [50, 150, 300, 150, 250],\n",
    "        \"product\" : [\"foo\", \"bar\", \"foobar\", \"item\", \"tv\"], \"category\" : [\"fd\", \"bev\", \"bev\", \"bev\", \"fd\"]})\n",
    "\n",
    "df.to_csv(\"writetocsv_sample.csv\", index=False)"
   ]
  },
  {
   "cell_type": "markdown",
   "metadata": {},
   "source": [
    "### groupby and create counts"
   ]
  },
  {
   "cell_type": "code",
   "execution_count": 13,
   "metadata": {
    "ExecuteTime": {
     "end_time": "2020-03-28T23:20:22.434599Z",
     "start_time": "2020-03-28T23:20:22.419644Z"
    }
   },
   "outputs": [
    {
     "data": {
      "text/html": [
       "<div>\n",
       "<style scoped>\n",
       "    .dataframe tbody tr th:only-of-type {\n",
       "        vertical-align: middle;\n",
       "    }\n",
       "\n",
       "    .dataframe tbody tr th {\n",
       "        vertical-align: top;\n",
       "    }\n",
       "\n",
       "    .dataframe thead th {\n",
       "        text-align: right;\n",
       "    }\n",
       "</style>\n",
       "<table border=\"1\" class=\"dataframe\">\n",
       "  <thead>\n",
       "    <tr style=\"text-align: right;\">\n",
       "      <th></th>\n",
       "      <th>city</th>\n",
       "      <th>people count</th>\n",
       "    </tr>\n",
       "  </thead>\n",
       "  <tbody>\n",
       "    <tr>\n",
       "      <td>0</td>\n",
       "      <td>California</td>\n",
       "      <td>4</td>\n",
       "    </tr>\n",
       "    <tr>\n",
       "      <td>1</td>\n",
       "      <td>Georgia</td>\n",
       "      <td>2</td>\n",
       "    </tr>\n",
       "    <tr>\n",
       "      <td>2</td>\n",
       "      <td>Los Angeles</td>\n",
       "      <td>4</td>\n",
       "    </tr>\n",
       "  </tbody>\n",
       "</table>\n",
       "</div>"
      ],
      "text/plain": [
       "          city  people count\n",
       "0   California             4\n",
       "1      Georgia             2\n",
       "2  Los Angeles             4"
      ]
     },
     "execution_count": 13,
     "metadata": {},
     "output_type": "execute_result"
    }
   ],
   "source": [
    "df = pd.DataFrame({'name': ['Anastasia', 'Dima', 'Katherine', 'James', 'Emily', 'Michael', 'Matthew', 'Laura', 'Kevin', 'Jonas'],\n",
    "'city': ['California', 'Los Angeles', 'California', 'California', 'California', 'Los Angeles', 'Los Angeles', 'Georgia', 'Georgia', 'Los Angeles']})\n",
    "\n",
    "city_count_df = df.groupby([\"city\"]).count().reset_index()\n",
    "city_count_df.rename(columns={\"name\" : \"people count\"}, inplace=True)\n",
    "city_count_df"
   ]
  },
  {
   "cell_type": "markdown",
   "metadata": {},
   "source": [
    "### delete rows based on column value"
   ]
  },
  {
   "cell_type": "code",
   "execution_count": 15,
   "metadata": {
    "ExecuteTime": {
     "end_time": "2020-03-28T23:24:54.813856Z",
     "start_time": "2020-03-28T23:24:54.798903Z"
    }
   },
   "outputs": [
    {
     "data": {
      "text/html": [
       "<div>\n",
       "<style scoped>\n",
       "    .dataframe tbody tr th:only-of-type {\n",
       "        vertical-align: middle;\n",
       "    }\n",
       "\n",
       "    .dataframe tbody tr th {\n",
       "        vertical-align: top;\n",
       "    }\n",
       "\n",
       "    .dataframe thead th {\n",
       "        text-align: right;\n",
       "    }\n",
       "</style>\n",
       "<table border=\"1\" class=\"dataframe\">\n",
       "  <thead>\n",
       "    <tr style=\"text-align: right;\">\n",
       "      <th></th>\n",
       "      <th>item</th>\n",
       "      <th>sales</th>\n",
       "      <th>cost</th>\n",
       "      <th>category</th>\n",
       "    </tr>\n",
       "  </thead>\n",
       "  <tbody>\n",
       "    <tr>\n",
       "      <td>0</td>\n",
       "      <td>1</td>\n",
       "      <td>200</td>\n",
       "      <td>50</td>\n",
       "      <td>food</td>\n",
       "    </tr>\n",
       "    <tr>\n",
       "      <td>3</td>\n",
       "      <td>6</td>\n",
       "      <td>200</td>\n",
       "      <td>150</td>\n",
       "      <td>food</td>\n",
       "    </tr>\n",
       "    <tr>\n",
       "      <td>4</td>\n",
       "      <td>9</td>\n",
       "      <td>300</td>\n",
       "      <td>250</td>\n",
       "      <td>food</td>\n",
       "    </tr>\n",
       "  </tbody>\n",
       "</table>\n",
       "</div>"
      ],
      "text/plain": [
       "   item  sales  cost category\n",
       "0     1    200    50     food\n",
       "3     6    200   150     food\n",
       "4     9    300   250     food"
      ]
     },
     "execution_count": 15,
     "metadata": {},
     "output_type": "execute_result"
    }
   ],
   "source": [
    "df = pd.DataFrame({\"item\" : [1, 3, 5, 6, 9], \"sales\" : [200, 450, 500, 200, 300], \"cost\" : [50, 150, 300, 150, 250],\n",
    "        \"category\" : [\"food\", \"beverage\", \"beverage\", \"food\", \"food\"]})\n",
    "\n",
    "df = df[df[\"category\"] != \"beverage\"]\n",
    "df"
   ]
  },
  {
   "cell_type": "markdown",
   "metadata": {},
   "source": [
    "### widen output display to see more columns"
   ]
  },
  {
   "cell_type": "code",
   "execution_count": 16,
   "metadata": {
    "ExecuteTime": {
     "end_time": "2020-03-28T23:27:49.601363Z",
     "start_time": "2020-03-28T23:27:49.598333Z"
    }
   },
   "outputs": [],
   "source": [
    "# these are all options to adjust diplay of columns, rows, and width of dataframes\n",
    "pd.set_option('display.max_rows', 500)\n",
    "pd.set_option('display.max_columns', 500)\n",
    "pd.set_option('display.width', 1000)"
   ]
  },
  {
   "cell_type": "markdown",
   "metadata": {},
   "source": [
    "### select a row by index"
   ]
  },
  {
   "cell_type": "code",
   "execution_count": 30,
   "metadata": {
    "ExecuteTime": {
     "end_time": "2020-03-29T23:05:24.018485Z",
     "start_time": "2020-03-29T23:05:24.004523Z"
    }
   },
   "outputs": [
    {
     "data": {
      "text/html": [
       "<div>\n",
       "<style scoped>\n",
       "    .dataframe tbody tr th:only-of-type {\n",
       "        vertical-align: middle;\n",
       "    }\n",
       "\n",
       "    .dataframe tbody tr th {\n",
       "        vertical-align: top;\n",
       "    }\n",
       "\n",
       "    .dataframe thead th {\n",
       "        text-align: right;\n",
       "    }\n",
       "</style>\n",
       "<table border=\"1\" class=\"dataframe\">\n",
       "  <thead>\n",
       "    <tr style=\"text-align: right;\">\n",
       "      <th></th>\n",
       "      <th>item</th>\n",
       "      <th>sales</th>\n",
       "      <th>cost</th>\n",
       "      <th>category</th>\n",
       "    </tr>\n",
       "  </thead>\n",
       "  <tbody>\n",
       "    <tr>\n",
       "      <td>2</td>\n",
       "      <td>5</td>\n",
       "      <td>500</td>\n",
       "      <td>300</td>\n",
       "      <td>beverage</td>\n",
       "    </tr>\n",
       "  </tbody>\n",
       "</table>\n",
       "</div>"
      ],
      "text/plain": [
       "   item  sales  cost  category\n",
       "2     5    500   300  beverage"
      ]
     },
     "execution_count": 30,
     "metadata": {},
     "output_type": "execute_result"
    }
   ],
   "source": [
    "df = pd.DataFrame({\"item\" : [1, 3, 5, 6, 9], \"sales\" : [200, 450, 500, 200, 300], \"cost\" : [50, 150, 300, 150, 250],\n",
    "        \"category\" : [\"food\", \"beverage\", \"beverage\", \"food\", \"food\"]})\n",
    "\n",
    "df.iloc[[2], :]"
   ]
  },
  {
   "cell_type": "markdown",
   "metadata": {},
   "source": [
    "### replace NaN values with Zero"
   ]
  },
  {
   "cell_type": "code",
   "execution_count": 29,
   "metadata": {
    "ExecuteTime": {
     "end_time": "2020-03-29T23:04:48.940269Z",
     "start_time": "2020-03-29T23:04:48.921324Z"
    }
   },
   "outputs": [
    {
     "data": {
      "text/html": [
       "<div>\n",
       "<style scoped>\n",
       "    .dataframe tbody tr th:only-of-type {\n",
       "        vertical-align: middle;\n",
       "    }\n",
       "\n",
       "    .dataframe tbody tr th {\n",
       "        vertical-align: top;\n",
       "    }\n",
       "\n",
       "    .dataframe thead th {\n",
       "        text-align: right;\n",
       "    }\n",
       "</style>\n",
       "<table border=\"1\" class=\"dataframe\">\n",
       "  <thead>\n",
       "    <tr style=\"text-align: right;\">\n",
       "      <th></th>\n",
       "      <th>name</th>\n",
       "      <th>score</th>\n",
       "      <th>attempts</th>\n",
       "      <th>qualify</th>\n",
       "    </tr>\n",
       "  </thead>\n",
       "  <tbody>\n",
       "    <tr>\n",
       "      <td>0</td>\n",
       "      <td>Anastasia</td>\n",
       "      <td>12.5</td>\n",
       "      <td>1</td>\n",
       "      <td>yes</td>\n",
       "    </tr>\n",
       "    <tr>\n",
       "      <td>1</td>\n",
       "      <td>Dima</td>\n",
       "      <td>9.0</td>\n",
       "      <td>3</td>\n",
       "      <td>no</td>\n",
       "    </tr>\n",
       "    <tr>\n",
       "      <td>2</td>\n",
       "      <td>Katherine</td>\n",
       "      <td>16.5</td>\n",
       "      <td>2</td>\n",
       "      <td>yes</td>\n",
       "    </tr>\n",
       "    <tr>\n",
       "      <td>3</td>\n",
       "      <td>James</td>\n",
       "      <td>0.0</td>\n",
       "      <td>3</td>\n",
       "      <td>no</td>\n",
       "    </tr>\n",
       "    <tr>\n",
       "      <td>4</td>\n",
       "      <td>Emily</td>\n",
       "      <td>9.0</td>\n",
       "      <td>2</td>\n",
       "      <td>no</td>\n",
       "    </tr>\n",
       "  </tbody>\n",
       "</table>\n",
       "</div>"
      ],
      "text/plain": [
       "        name  score  attempts qualify\n",
       "0  Anastasia   12.5         1     yes\n",
       "1       Dima    9.0         3      no\n",
       "2  Katherine   16.5         2     yes\n",
       "3      James    0.0         3      no\n",
       "4      Emily    9.0         2      no"
      ]
     },
     "execution_count": 29,
     "metadata": {},
     "output_type": "execute_result"
    }
   ],
   "source": [
    "df = pd.DataFrame({'name': ['Anastasia', 'Dima', 'Katherine', 'James', 'Emily', 'Michael', 'Matthew', 'Laura', 'Kevin', 'Jonas'],\n",
    "        'score': [12.5, 9, 16.5, np.nan, 9, 20, 14.5, np.nan, 8, 19],\n",
    "        'attempts': [1, 3, 2, 3, 2, 3, 1, 1, 2, 1],\n",
    "        'qualify': ['yes', 'no', 'yes', 'no', 'no', 'yes', 'yes', 'no', 'no', 'yes']})\n",
    "\n",
    "df = df.fillna(0)\n",
    "df.head()"
   ]
  },
  {
   "cell_type": "markdown",
   "metadata": {},
   "source": [
    "### convert index in a column of a dataframe"
   ]
  },
  {
   "cell_type": "code",
   "execution_count": 32,
   "metadata": {
    "ExecuteTime": {
     "end_time": "2020-03-29T23:07:58.920068Z",
     "start_time": "2020-03-29T23:07:58.899125Z"
    }
   },
   "outputs": [
    {
     "data": {
      "text/html": [
       "<div>\n",
       "<style scoped>\n",
       "    .dataframe tbody tr th:only-of-type {\n",
       "        vertical-align: middle;\n",
       "    }\n",
       "\n",
       "    .dataframe tbody tr th {\n",
       "        vertical-align: top;\n",
       "    }\n",
       "\n",
       "    .dataframe thead th {\n",
       "        text-align: right;\n",
       "    }\n",
       "</style>\n",
       "<table border=\"1\" class=\"dataframe\">\n",
       "  <thead>\n",
       "    <tr style=\"text-align: right;\">\n",
       "      <th></th>\n",
       "      <th>index</th>\n",
       "      <th>item</th>\n",
       "      <th>sales</th>\n",
       "      <th>cost</th>\n",
       "      <th>product</th>\n",
       "    </tr>\n",
       "  </thead>\n",
       "  <tbody>\n",
       "    <tr>\n",
       "      <td>0</td>\n",
       "      <td>a</td>\n",
       "      <td>1</td>\n",
       "      <td>200</td>\n",
       "      <td>50</td>\n",
       "      <td>foo</td>\n",
       "    </tr>\n",
       "    <tr>\n",
       "      <td>1</td>\n",
       "      <td>b</td>\n",
       "      <td>3</td>\n",
       "      <td>450</td>\n",
       "      <td>150</td>\n",
       "      <td>bar</td>\n",
       "    </tr>\n",
       "    <tr>\n",
       "      <td>2</td>\n",
       "      <td>c</td>\n",
       "      <td>5</td>\n",
       "      <td>500</td>\n",
       "      <td>300</td>\n",
       "      <td>foobar</td>\n",
       "    </tr>\n",
       "    <tr>\n",
       "      <td>3</td>\n",
       "      <td>d</td>\n",
       "      <td>6</td>\n",
       "      <td>200</td>\n",
       "      <td>150</td>\n",
       "      <td>item</td>\n",
       "    </tr>\n",
       "    <tr>\n",
       "      <td>4</td>\n",
       "      <td>e</td>\n",
       "      <td>9</td>\n",
       "      <td>300</td>\n",
       "      <td>250</td>\n",
       "      <td>product</td>\n",
       "    </tr>\n",
       "  </tbody>\n",
       "</table>\n",
       "</div>"
      ],
      "text/plain": [
       "  index  item  sales  cost  product\n",
       "0     a     1    200    50      foo\n",
       "1     b     3    450   150      bar\n",
       "2     c     5    500   300   foobar\n",
       "3     d     6    200   150     item\n",
       "4     e     9    300   250  product"
      ]
     },
     "execution_count": 32,
     "metadata": {},
     "output_type": "execute_result"
    }
   ],
   "source": [
    "data = {\"item\" : [1, 3, 5, 6, 9], \"sales\" : [200, 450, 500, 200, 300], \"cost\" : [50, 150, 300, 150, 250],\n",
    "        \"product\" : [\"foo\", \"bar\", \"foobar\", \"item\", \"product\"]}\n",
    "labels = [\"a\", \"b\", \"c\", \"d\", \"e\"]\n",
    "df = pd.DataFrame(data=data, index=labels)\n",
    "\n",
    "df.reset_index(level=0, inplace=True)\n",
    "df"
   ]
  },
  {
   "cell_type": "markdown",
   "metadata": {},
   "source": [
    "### set a given value for particular cell (.at)"
   ]
  },
  {
   "cell_type": "code",
   "execution_count": 35,
   "metadata": {
    "ExecuteTime": {
     "end_time": "2020-03-29T23:12:17.313844Z",
     "start_time": "2020-03-29T23:12:17.298883Z"
    }
   },
   "outputs": [
    {
     "data": {
      "text/html": [
       "<div>\n",
       "<style scoped>\n",
       "    .dataframe tbody tr th:only-of-type {\n",
       "        vertical-align: middle;\n",
       "    }\n",
       "\n",
       "    .dataframe tbody tr th {\n",
       "        vertical-align: top;\n",
       "    }\n",
       "\n",
       "    .dataframe thead th {\n",
       "        text-align: right;\n",
       "    }\n",
       "</style>\n",
       "<table border=\"1\" class=\"dataframe\">\n",
       "  <thead>\n",
       "    <tr style=\"text-align: right;\">\n",
       "      <th></th>\n",
       "      <th>item</th>\n",
       "      <th>sales</th>\n",
       "      <th>cost</th>\n",
       "      <th>category</th>\n",
       "    </tr>\n",
       "  </thead>\n",
       "  <tbody>\n",
       "    <tr>\n",
       "      <td>0</td>\n",
       "      <td>1</td>\n",
       "      <td>200</td>\n",
       "      <td>50</td>\n",
       "      <td>food</td>\n",
       "    </tr>\n",
       "    <tr>\n",
       "      <td>1</td>\n",
       "      <td>3</td>\n",
       "      <td>450</td>\n",
       "      <td>150</td>\n",
       "      <td>beverage</td>\n",
       "    </tr>\n",
       "    <tr>\n",
       "      <td>2</td>\n",
       "      <td>5</td>\n",
       "      <td>500</td>\n",
       "      <td>300</td>\n",
       "      <td>beverage</td>\n",
       "    </tr>\n",
       "    <tr>\n",
       "      <td>3</td>\n",
       "      <td>6</td>\n",
       "      <td>999</td>\n",
       "      <td>150</td>\n",
       "      <td>food</td>\n",
       "    </tr>\n",
       "    <tr>\n",
       "      <td>4</td>\n",
       "      <td>9</td>\n",
       "      <td>300</td>\n",
       "      <td>250</td>\n",
       "      <td>food</td>\n",
       "    </tr>\n",
       "  </tbody>\n",
       "</table>\n",
       "</div>"
      ],
      "text/plain": [
       "   item  sales  cost  category\n",
       "0     1    200    50      food\n",
       "1     3    450   150  beverage\n",
       "2     5    500   300  beverage\n",
       "3     6    999   150      food\n",
       "4     9    300   250      food"
      ]
     },
     "execution_count": 35,
     "metadata": {},
     "output_type": "execute_result"
    }
   ],
   "source": [
    "df = pd.DataFrame({\"item\" : [1, 3, 5, 6, 9], \"sales\" : [200, 450, 500, 200, 300], \"cost\" : [50, 150, 300, 150, 250],\n",
    "        \"category\" : [\"food\", \"beverage\", \"beverage\", \"food\", \"food\"]})\n",
    "\n",
    "df.at[3, \"sales\"] = 999\n",
    "df"
   ]
  },
  {
   "cell_type": "markdown",
   "metadata": {},
   "source": [
    "### drop a list of rows (.drop)"
   ]
  },
  {
   "cell_type": "code",
   "execution_count": 44,
   "metadata": {
    "ExecuteTime": {
     "end_time": "2020-03-29T23:17:05.414062Z",
     "start_time": "2020-03-29T23:17:05.401099Z"
    }
   },
   "outputs": [
    {
     "data": {
      "text/html": [
       "<div>\n",
       "<style scoped>\n",
       "    .dataframe tbody tr th:only-of-type {\n",
       "        vertical-align: middle;\n",
       "    }\n",
       "\n",
       "    .dataframe tbody tr th {\n",
       "        vertical-align: top;\n",
       "    }\n",
       "\n",
       "    .dataframe thead th {\n",
       "        text-align: right;\n",
       "    }\n",
       "</style>\n",
       "<table border=\"1\" class=\"dataframe\">\n",
       "  <thead>\n",
       "    <tr style=\"text-align: right;\">\n",
       "      <th></th>\n",
       "      <th>item</th>\n",
       "      <th>sales</th>\n",
       "      <th>cost</th>\n",
       "      <th>category</th>\n",
       "    </tr>\n",
       "  </thead>\n",
       "  <tbody>\n",
       "    <tr>\n",
       "      <td>1</td>\n",
       "      <td>3</td>\n",
       "      <td>450</td>\n",
       "      <td>150</td>\n",
       "      <td>beverage</td>\n",
       "    </tr>\n",
       "    <tr>\n",
       "      <td>3</td>\n",
       "      <td>6</td>\n",
       "      <td>200</td>\n",
       "      <td>150</td>\n",
       "      <td>food</td>\n",
       "    </tr>\n",
       "    <tr>\n",
       "      <td>4</td>\n",
       "      <td>9</td>\n",
       "      <td>300</td>\n",
       "      <td>250</td>\n",
       "      <td>food</td>\n",
       "    </tr>\n",
       "  </tbody>\n",
       "</table>\n",
       "</div>"
      ],
      "text/plain": [
       "   item  sales  cost  category\n",
       "1     3    450   150  beverage\n",
       "3     6    200   150      food\n",
       "4     9    300   250      food"
      ]
     },
     "execution_count": 44,
     "metadata": {},
     "output_type": "execute_result"
    }
   ],
   "source": [
    "df = pd.DataFrame({\"item\" : [1, 3, 5, 6, 9], \"sales\" : [200, 450, 500, 200, 300], \"cost\" : [50, 150, 300, 150, 250],\n",
    "        \"category\" : [\"food\", \"beverage\", \"beverage\", \"food\", \"food\"]})\n",
    "\n",
    "df = df.drop(df.index[[0,2]])\n",
    "df"
   ]
  },
  {
   "cell_type": "markdown",
   "metadata": {},
   "source": [
    "### get ratio of a dataframe (.sample)"
   ]
  },
  {
   "cell_type": "code",
   "execution_count": 53,
   "metadata": {
    "ExecuteTime": {
     "end_time": "2020-03-29T23:24:43.169965Z",
     "start_time": "2020-03-29T23:24:43.154971Z"
    }
   },
   "outputs": [
    {
     "data": {
      "text/html": [
       "<div>\n",
       "<style scoped>\n",
       "    .dataframe tbody tr th:only-of-type {\n",
       "        vertical-align: middle;\n",
       "    }\n",
       "\n",
       "    .dataframe tbody tr th {\n",
       "        vertical-align: top;\n",
       "    }\n",
       "\n",
       "    .dataframe thead th {\n",
       "        text-align: right;\n",
       "    }\n",
       "</style>\n",
       "<table border=\"1\" class=\"dataframe\">\n",
       "  <thead>\n",
       "    <tr style=\"text-align: right;\">\n",
       "      <th></th>\n",
       "      <th>Set_1</th>\n",
       "      <th>Set_2</th>\n",
       "    </tr>\n",
       "  </thead>\n",
       "  <tbody>\n",
       "    <tr>\n",
       "      <td>8</td>\n",
       "      <td>1.165747</td>\n",
       "      <td>-0.604693</td>\n",
       "    </tr>\n",
       "    <tr>\n",
       "      <td>2</td>\n",
       "      <td>-1.471772</td>\n",
       "      <td>1.031580</td>\n",
       "    </tr>\n",
       "    <tr>\n",
       "      <td>5</td>\n",
       "      <td>1.316257</td>\n",
       "      <td>-0.500638</td>\n",
       "    </tr>\n",
       "    <tr>\n",
       "      <td>6</td>\n",
       "      <td>0.537055</td>\n",
       "      <td>0.135135</td>\n",
       "    </tr>\n",
       "    <tr>\n",
       "      <td>3</td>\n",
       "      <td>-0.980665</td>\n",
       "      <td>0.197434</td>\n",
       "    </tr>\n",
       "    <tr>\n",
       "      <td>1</td>\n",
       "      <td>-0.303258</td>\n",
       "      <td>-2.890178</td>\n",
       "    </tr>\n",
       "    <tr>\n",
       "      <td>0</td>\n",
       "      <td>0.761975</td>\n",
       "      <td>0.533917</td>\n",
       "    </tr>\n",
       "  </tbody>\n",
       "</table>\n",
       "</div>"
      ],
      "text/plain": [
       "      Set_1     Set_2\n",
       "8  1.165747 -0.604693\n",
       "2 -1.471772  1.031580\n",
       "5  1.316257 -0.500638\n",
       "6  0.537055  0.135135\n",
       "3 -0.980665  0.197434\n",
       "1 -0.303258 -2.890178\n",
       "0  0.761975  0.533917"
      ]
     },
     "execution_count": 53,
     "metadata": {},
     "output_type": "execute_result"
    }
   ],
   "source": [
    "df = pd.DataFrame(np.random.randn(10, 2))\n",
    "df.columns = [\"Set_1\", \"Set_2\"]\n",
    "\n",
    "part_70 = df.sample(frac=0.7, random_state=10)\n",
    "part_30 = df.drop(part_70.index)\n",
    "\n",
    "part_70"
   ]
  },
  {
   "cell_type": "markdown",
   "metadata": {
    "ExecuteTime": {
     "end_time": "2020-03-29T23:25:14.487118Z",
     "start_time": "2020-03-29T23:25:14.480138Z"
    }
   },
   "source": [
    "### combining two series into a dataframe"
   ]
  },
  {
   "cell_type": "code",
   "execution_count": 59,
   "metadata": {
    "ExecuteTime": {
     "end_time": "2020-03-29T23:48:16.914547Z",
     "start_time": "2020-03-29T23:48:16.904572Z"
    }
   },
   "outputs": [
    {
     "data": {
      "text/html": [
       "<div>\n",
       "<style scoped>\n",
       "    .dataframe tbody tr th:only-of-type {\n",
       "        vertical-align: middle;\n",
       "    }\n",
       "\n",
       "    .dataframe tbody tr th {\n",
       "        vertical-align: top;\n",
       "    }\n",
       "\n",
       "    .dataframe thead th {\n",
       "        text-align: right;\n",
       "    }\n",
       "</style>\n",
       "<table border=\"1\" class=\"dataframe\">\n",
       "  <thead>\n",
       "    <tr style=\"text-align: right;\">\n",
       "      <th></th>\n",
       "      <th>cost</th>\n",
       "      <th>title</th>\n",
       "    </tr>\n",
       "  </thead>\n",
       "  <tbody>\n",
       "    <tr>\n",
       "      <td>0</td>\n",
       "      <td>100</td>\n",
       "      <td>foo</td>\n",
       "    </tr>\n",
       "    <tr>\n",
       "      <td>1</td>\n",
       "      <td>200</td>\n",
       "      <td>bar</td>\n",
       "    </tr>\n",
       "    <tr>\n",
       "      <td>2</td>\n",
       "      <td>58</td>\n",
       "      <td>item</td>\n",
       "    </tr>\n",
       "    <tr>\n",
       "      <td>3</td>\n",
       "      <td>56</td>\n",
       "      <td>product</td>\n",
       "    </tr>\n",
       "    <tr>\n",
       "      <td>4</td>\n",
       "      <td>88</td>\n",
       "      <td>thing</td>\n",
       "    </tr>\n",
       "  </tbody>\n",
       "</table>\n",
       "</div>"
      ],
      "text/plain": [
       "   cost    title\n",
       "0   100      foo\n",
       "1   200      bar\n",
       "2    58     item\n",
       "3    56  product\n",
       "4    88    thing"
      ]
     },
     "execution_count": 59,
     "metadata": {},
     "output_type": "execute_result"
    }
   ],
   "source": [
    "ds = pd.Series([100, 200, 58, 56, 88], name=\"cost\")\n",
    "ds2 = pd.Series([\"foo\", \"bar\", \"item\", \"product\", \"thing\"], name=\"title\")\n",
    "\n",
    "df = pd.concat([ds, ds2], axis=1)\n",
    "df"
   ]
  },
  {
   "cell_type": "markdown",
   "metadata": {},
   "source": [
    "### shuffle rows of dataframe"
   ]
  },
  {
   "cell_type": "code",
   "execution_count": 62,
   "metadata": {
    "ExecuteTime": {
     "end_time": "2020-03-30T00:02:48.423669Z",
     "start_time": "2020-03-30T00:02:48.411723Z"
    }
   },
   "outputs": [
    {
     "data": {
      "text/html": [
       "<div>\n",
       "<style scoped>\n",
       "    .dataframe tbody tr th:only-of-type {\n",
       "        vertical-align: middle;\n",
       "    }\n",
       "\n",
       "    .dataframe tbody tr th {\n",
       "        vertical-align: top;\n",
       "    }\n",
       "\n",
       "    .dataframe thead th {\n",
       "        text-align: right;\n",
       "    }\n",
       "</style>\n",
       "<table border=\"1\" class=\"dataframe\">\n",
       "  <thead>\n",
       "    <tr style=\"text-align: right;\">\n",
       "      <th></th>\n",
       "      <th>item</th>\n",
       "      <th>sales</th>\n",
       "      <th>cost</th>\n",
       "      <th>category</th>\n",
       "    </tr>\n",
       "  </thead>\n",
       "  <tbody>\n",
       "    <tr>\n",
       "      <td>4</td>\n",
       "      <td>9</td>\n",
       "      <td>300</td>\n",
       "      <td>250</td>\n",
       "      <td>food</td>\n",
       "    </tr>\n",
       "    <tr>\n",
       "      <td>2</td>\n",
       "      <td>5</td>\n",
       "      <td>500</td>\n",
       "      <td>300</td>\n",
       "      <td>beverage</td>\n",
       "    </tr>\n",
       "    <tr>\n",
       "      <td>1</td>\n",
       "      <td>3</td>\n",
       "      <td>450</td>\n",
       "      <td>150</td>\n",
       "      <td>beverage</td>\n",
       "    </tr>\n",
       "    <tr>\n",
       "      <td>3</td>\n",
       "      <td>6</td>\n",
       "      <td>200</td>\n",
       "      <td>150</td>\n",
       "      <td>food</td>\n",
       "    </tr>\n",
       "    <tr>\n",
       "      <td>0</td>\n",
       "      <td>1</td>\n",
       "      <td>200</td>\n",
       "      <td>50</td>\n",
       "      <td>food</td>\n",
       "    </tr>\n",
       "  </tbody>\n",
       "</table>\n",
       "</div>"
      ],
      "text/plain": [
       "   item  sales  cost  category\n",
       "4     9    300   250      food\n",
       "2     5    500   300  beverage\n",
       "1     3    450   150  beverage\n",
       "3     6    200   150      food\n",
       "0     1    200    50      food"
      ]
     },
     "execution_count": 62,
     "metadata": {},
     "output_type": "execute_result"
    }
   ],
   "source": [
    "df = pd.DataFrame({\"item\" : [1, 3, 5, 6, 9], \"sales\" : [200, 450, 500, 200, 300], \"cost\" : [50, 150, 300, 150, 250],\n",
    "        \"category\" : [\"food\", \"beverage\", \"beverage\", \"food\", \"food\"]})\n",
    "\n",
    "df = df.sample(frac=1)\n",
    "df"
   ]
  },
  {
   "cell_type": "markdown",
   "metadata": {},
   "source": [
    "### convert column to datetime"
   ]
  },
  {
   "cell_type": "code",
   "execution_count": 72,
   "metadata": {
    "ExecuteTime": {
     "end_time": "2020-03-30T00:12:02.148182Z",
     "start_time": "2020-03-30T00:12:02.135214Z"
    }
   },
   "outputs": [
    {
     "name": "stdout",
     "output_type": "stream",
     "text": [
      "           date  sales\n",
      "0       3/11/20    200\n",
      "1     3/12/2000    450\n",
      "2  Mar 13, 2008    500\n"
     ]
    },
    {
     "data": {
      "text/html": [
       "<div>\n",
       "<style scoped>\n",
       "    .dataframe tbody tr th:only-of-type {\n",
       "        vertical-align: middle;\n",
       "    }\n",
       "\n",
       "    .dataframe tbody tr th {\n",
       "        vertical-align: top;\n",
       "    }\n",
       "\n",
       "    .dataframe thead th {\n",
       "        text-align: right;\n",
       "    }\n",
       "</style>\n",
       "<table border=\"1\" class=\"dataframe\">\n",
       "  <thead>\n",
       "    <tr style=\"text-align: right;\">\n",
       "      <th></th>\n",
       "      <th>date</th>\n",
       "      <th>sales</th>\n",
       "    </tr>\n",
       "  </thead>\n",
       "  <tbody>\n",
       "    <tr>\n",
       "      <td>0</td>\n",
       "      <td>2020-03-11</td>\n",
       "      <td>200</td>\n",
       "    </tr>\n",
       "    <tr>\n",
       "      <td>1</td>\n",
       "      <td>2000-03-12</td>\n",
       "      <td>450</td>\n",
       "    </tr>\n",
       "    <tr>\n",
       "      <td>2</td>\n",
       "      <td>2008-03-13</td>\n",
       "      <td>500</td>\n",
       "    </tr>\n",
       "  </tbody>\n",
       "</table>\n",
       "</div>"
      ],
      "text/plain": [
       "        date  sales\n",
       "0 2020-03-11    200\n",
       "1 2000-03-12    450\n",
       "2 2008-03-13    500"
      ]
     },
     "execution_count": 72,
     "metadata": {},
     "output_type": "execute_result"
    }
   ],
   "source": [
    "df = pd.DataFrame({\"date\" : ['3/11/20', '3/12/2000', 'Mar 13, 2008'], \"sales\" : [200, 450, 500]})\n",
    "print(df)\n",
    "\n",
    "df[\"date\"] = pd.to_datetime(df[\"date\"])\n",
    "df "
   ]
  },
  {
   "cell_type": "markdown",
   "metadata": {},
   "source": [
    "### get a list of a specified column"
   ]
  },
  {
   "cell_type": "code",
   "execution_count": 74,
   "metadata": {
    "ExecuteTime": {
     "end_time": "2020-03-30T00:16:04.804891Z",
     "start_time": "2020-03-30T00:16:04.796892Z"
    }
   },
   "outputs": [
    {
     "name": "stdout",
     "output_type": "stream",
     "text": [
      "[200, 450, 500, 200, 300]\n"
     ]
    }
   ],
   "source": [
    "df = pd.DataFrame({\"item\" : [1, 3, 5, 6, 9], \"sales\" : [200, 450, 500, 200, 300], \"cost\" : [50, 150, 300, 150, 250],\n",
    "        \"category\" : [\"food\", \"beverage\", \"beverage\", \"food\", \"food\"]})\n",
    "\n",
    "sales_list = df[\"sales\"].to_list()\n",
    "print(sales_list)"
   ]
  },
  {
   "cell_type": "markdown",
   "metadata": {},
   "source": [
    "### get a numpy array of a specific column"
   ]
  },
  {
   "cell_type": "code",
   "execution_count": null,
   "metadata": {},
   "outputs": [],
   "source": []
  }
 ],
 "metadata": {
  "kernelspec": {
   "display_name": "Python 3",
   "language": "python",
   "name": "python3"
  },
  "language_info": {
   "codemirror_mode": {
    "name": "ipython",
    "version": 3
   },
   "file_extension": ".py",
   "mimetype": "text/x-python",
   "name": "python",
   "nbconvert_exporter": "python",
   "pygments_lexer": "ipython3",
   "version": "3.7.4"
  },
  "toc": {
   "base_numbering": 1,
   "nav_menu": {},
   "number_sections": true,
   "sideBar": true,
   "skip_h1_title": false,
   "title_cell": "Table of Contents",
   "title_sidebar": "Contents",
   "toc_cell": false,
   "toc_position": {
    "height": "calc(100% - 180px)",
    "left": "10px",
    "top": "150px",
    "width": "313.4px"
   },
   "toc_section_display": true,
   "toc_window_display": true
  },
  "varInspector": {
   "cols": {
    "lenName": 16,
    "lenType": 16,
    "lenVar": 40
   },
   "kernels_config": {
    "python": {
     "delete_cmd_postfix": "",
     "delete_cmd_prefix": "del ",
     "library": "var_list.py",
     "varRefreshCmd": "print(var_dic_list())"
    },
    "r": {
     "delete_cmd_postfix": ") ",
     "delete_cmd_prefix": "rm(",
     "library": "var_list.r",
     "varRefreshCmd": "cat(var_dic_list()) "
    }
   },
   "types_to_exclude": [
    "module",
    "function",
    "builtin_function_or_method",
    "instance",
    "_Feature"
   ],
   "window_display": false
  }
 },
 "nbformat": 4,
 "nbformat_minor": 2
}
