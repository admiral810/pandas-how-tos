{
 "cells": [
  {
   "cell_type": "code",
   "execution_count": 188,
   "metadata": {
    "ExecuteTime": {
     "end_time": "2020-03-22T23:32:37.073399Z",
     "start_time": "2020-03-22T23:32:37.068448Z"
    }
   },
   "outputs": [],
   "source": [
    "import pandas as pd\n",
    "import numpy as np\n",
    "import datetime as dt"
   ]
  },
  {
   "cell_type": "markdown",
   "metadata": {},
   "source": [
    "# Series\n",
    "Series is a one-dimensional labeled array capable of holding any data type (integers, strings, floating point numbers, Python objects, etc.). The axis labels are collectively referred to as the index. "
   ]
  },
  {
   "cell_type": "markdown",
   "metadata": {},
   "source": [
    "### create a series"
   ]
  },
  {
   "cell_type": "code",
   "execution_count": 24,
   "metadata": {
    "ExecuteTime": {
     "end_time": "2020-03-22T18:49:22.068559Z",
     "start_time": "2020-03-22T18:49:22.061577Z"
    }
   },
   "outputs": [
    {
     "data": {
      "text/plain": [
       "0      a\n",
       "1      2\n",
       "2    foo\n",
       "3    bar\n",
       "4      9\n",
       "dtype: object"
      ]
     },
     "execution_count": 24,
     "metadata": {},
     "output_type": "execute_result"
    }
   ],
   "source": [
    "ds = pd.Series([\"a\", 2, \"foo\", \"bar\", 9])\n",
    "ds"
   ]
  },
  {
   "cell_type": "markdown",
   "metadata": {},
   "source": [
    "### convert Panda series to Python list"
   ]
  },
  {
   "cell_type": "code",
   "execution_count": 25,
   "metadata": {
    "ExecuteTime": {
     "end_time": "2020-03-22T18:49:22.087508Z",
     "start_time": "2020-03-22T18:49:22.082521Z"
    }
   },
   "outputs": [
    {
     "name": "stdout",
     "output_type": "stream",
     "text": [
      "<class 'pandas.core.series.Series'>\n",
      "['a', 2, 'foo', 'bar', 9]\n"
     ]
    }
   ],
   "source": [
    "ds = pd.Series([\"a\", 2, \"foo\", \"bar\", 9])\n",
    "print (type(ds))\n",
    "list = ds.to_list()\n",
    "print (list)"
   ]
  },
  {
   "cell_type": "markdown",
   "metadata": {},
   "source": [
    "### operate over multiple series"
   ]
  },
  {
   "cell_type": "code",
   "execution_count": 26,
   "metadata": {
    "ExecuteTime": {
     "end_time": "2020-03-22T18:49:22.097482Z",
     "start_time": "2020-03-22T18:49:22.089532Z"
    }
   },
   "outputs": [
    {
     "data": {
      "text/plain": [
       "0     2\n",
       "1    12\n",
       "2    30\n",
       "3    56\n",
       "4    90\n",
       "dtype: int64"
      ]
     },
     "execution_count": 26,
     "metadata": {},
     "output_type": "execute_result"
    }
   ],
   "source": [
    "ds1 = pd.Series([2, 4, 6, 8, 10])\n",
    "ds2 = pd.Series([1, 3, 5, 7, 9])\n",
    "\n",
    "multiplied = ds1 * ds2\n",
    "multiplied"
   ]
  },
  {
   "cell_type": "markdown",
   "metadata": {},
   "source": [
    "###  compare the elements of two series"
   ]
  },
  {
   "cell_type": "code",
   "execution_count": 27,
   "metadata": {
    "ExecuteTime": {
     "end_time": "2020-03-22T18:49:22.115479Z",
     "start_time": "2020-03-22T18:49:22.106459Z"
    }
   },
   "outputs": [
    {
     "name": "stdout",
     "output_type": "stream",
     "text": [
      "Series One Larger:\n",
      "0    False\n",
      "1    False\n",
      "2     True\n",
      "3     True\n",
      "4    False\n",
      "dtype: bool\n"
     ]
    }
   ],
   "source": [
    "ds1 = pd.Series([2, 4, 3, 3, 10])\n",
    "ds2 = pd.Series([1, 3, 5, 7, 9])\n",
    "print(\"Series One Larger:\")\n",
    "print(ds1 < ds2)"
   ]
  },
  {
   "cell_type": "markdown",
   "metadata": {},
   "source": [
    "### convert a dictionary to a series"
   ]
  },
  {
   "cell_type": "code",
   "execution_count": 32,
   "metadata": {
    "ExecuteTime": {
     "end_time": "2020-03-22T18:50:33.572724Z",
     "start_time": "2020-03-22T18:50:33.564746Z"
    }
   },
   "outputs": [
    {
     "name": "stdout",
     "output_type": "stream",
     "text": [
      "<class 'pandas.core.series.Series'>\n"
     ]
    },
    {
     "data": {
      "text/plain": [
       "a    100\n",
       "b    200\n",
       "c    300\n",
       "d    400\n",
       "e    800\n",
       "dtype: int64"
      ]
     },
     "execution_count": 32,
     "metadata": {},
     "output_type": "execute_result"
    }
   ],
   "source": [
    "dict = {'a': 100, 'b': 200, 'c': 300, 'd': 400, 'e': 800}\n",
    "ds = pd.Series(dict)\n",
    "print(type(ds))\n",
    "ds"
   ]
  },
  {
   "cell_type": "markdown",
   "metadata": {},
   "source": [
    "### convert a NumPy array to a Pandas series"
   ]
  },
  {
   "cell_type": "code",
   "execution_count": 35,
   "metadata": {
    "ExecuteTime": {
     "end_time": "2020-03-22T18:53:32.181835Z",
     "start_time": "2020-03-22T18:53:32.173880Z"
    }
   },
   "outputs": [
    {
     "name": "stdout",
     "output_type": "stream",
     "text": [
      "<class 'numpy.ndarray'>\n",
      "<class 'pandas.core.series.Series'>\n"
     ]
    },
    {
     "data": {
      "text/plain": [
       "0     2\n",
       "1     4\n",
       "2     3\n",
       "3     3\n",
       "4    10\n",
       "dtype: int32"
      ]
     },
     "execution_count": 35,
     "metadata": {},
     "output_type": "execute_result"
    }
   ],
   "source": [
    "npa = np.array([2, 4, 3, 3, 10])\n",
    "print(type(npa))\n",
    "ds = pd.Series(npa)\n",
    "print(type(ds))\n",
    "ds"
   ]
  },
  {
   "cell_type": "markdown",
   "metadata": {},
   "source": [
    "### change the data type of a Series"
   ]
  },
  {
   "cell_type": "code",
   "execution_count": 41,
   "metadata": {
    "ExecuteTime": {
     "end_time": "2020-03-22T18:58:25.353984Z",
     "start_time": "2020-03-22T18:58:25.345017Z"
    }
   },
   "outputs": [
    {
     "data": {
      "text/plain": [
       "0    100.00\n",
       "1    200.00\n",
       "2       NaN\n",
       "3       NaN\n",
       "4    300.12\n",
       "dtype: float64"
      ]
     },
     "execution_count": 41,
     "metadata": {},
     "output_type": "execute_result"
    }
   ],
   "source": [
    "ds = pd.Series([100, 200, \"foo\", \"bar\", 300.12])\n",
    "ds_num = pd.to_numeric(ds, errors='coerce')  #coerce errors returns NaN as opposed to errors\n",
    "ds_num"
   ]
  },
  {
   "cell_type": "markdown",
   "metadata": {},
   "source": [
    "### convert the first column of a DataFrame as a Series"
   ]
  },
  {
   "cell_type": "code",
   "execution_count": 45,
   "metadata": {
    "ExecuteTime": {
     "end_time": "2020-03-22T19:07:27.005619Z",
     "start_time": "2020-03-22T19:07:26.994680Z"
    }
   },
   "outputs": [
    {
     "name": "stdout",
     "output_type": "stream",
     "text": [
      "<class 'pandas.core.series.Series'>\n"
     ]
    },
    {
     "data": {
      "text/plain": [
       "0    1\n",
       "1    3\n",
       "2    8\n",
       "Name: A, dtype: int64"
      ]
     },
     "execution_count": 45,
     "metadata": {},
     "output_type": "execute_result"
    }
   ],
   "source": [
    "df = pd.DataFrame(\n",
    "    {\"A\" : [1, 3, 8],\n",
    "     \"B\" : [2, 5, 7],\n",
    "     \"C\" : [3, 5, 9]})\n",
    "ds = pd.Series(df[\"A\"])\n",
    "print(type(ds))\n",
    "ds"
   ]
  },
  {
   "cell_type": "markdown",
   "metadata": {
    "ExecuteTime": {
     "end_time": "2020-03-22T19:08:15.457538Z",
     "start_time": "2020-03-22T19:08:15.453545Z"
    }
   },
   "source": [
    "### convert a series to a nupy array"
   ]
  },
  {
   "cell_type": "code",
   "execution_count": 51,
   "metadata": {
    "ExecuteTime": {
     "end_time": "2020-03-22T19:11:49.680284Z",
     "start_time": "2020-03-22T19:11:49.675297Z"
    }
   },
   "outputs": [
    {
     "name": "stdout",
     "output_type": "stream",
     "text": [
      "<class 'numpy.ndarray'>\n",
      "[100 200 'foo' 'bar' 300.12]\n"
     ]
    }
   ],
   "source": [
    "ds = pd.Series([100, 200, \"foo\", \"bar\", 300.12])\n",
    "npa = np.array(ds)\n",
    "print(type(npa))\n",
    "print(npa)"
   ]
  },
  {
   "cell_type": "markdown",
   "metadata": {
    "ExecuteTime": {
     "end_time": "2020-03-22T19:12:46.792423Z",
     "start_time": "2020-03-22T19:12:46.788467Z"
    }
   },
   "source": [
    "### convert series of lists to one series\n",
    "pd.Series.apply will invoke function on values of series https://pandas.pydata.org/pandas-docs/stable/reference/api/pandas.Series.apply.html"
   ]
  },
  {
   "cell_type": "code",
   "execution_count": 62,
   "metadata": {
    "ExecuteTime": {
     "end_time": "2020-03-22T19:17:45.804788Z",
     "start_time": "2020-03-22T19:17:45.796810Z"
    }
   },
   "outputs": [
    {
     "name": "stdout",
     "output_type": "stream",
     "text": [
      "0      Red\n",
      "1    Green\n",
      "2     Blue\n",
      "3      Red\n",
      "4    Black\n",
      "5    White\n",
      "dtype: object\n"
     ]
    }
   ],
   "source": [
    "ds = pd.Series([[\"Red\", \"Green\", \"Blue\"], [\"Red\", \"Black\"], \"White\"])\n",
    "ds = ds.apply(pd.Series).stack().reset_index(drop=True)  #reset index value otherwise get 'gaps' or mult index values\n",
    "print(ds)"
   ]
  },
  {
   "cell_type": "markdown",
   "metadata": {},
   "source": [
    "### sort a series"
   ]
  },
  {
   "cell_type": "code",
   "execution_count": 64,
   "metadata": {
    "ExecuteTime": {
     "end_time": "2020-03-22T19:39:48.999800Z",
     "start_time": "2020-03-22T19:39:48.983842Z"
    }
   },
   "outputs": [
    {
     "data": {
      "text/plain": [
       "2      1.00\n",
       "3      5.60\n",
       "0    100.00\n",
       "1    200.00\n",
       "4    300.12\n",
       "dtype: float64"
      ]
     },
     "execution_count": 64,
     "metadata": {},
     "output_type": "execute_result"
    }
   ],
   "source": [
    "ds = pd.Series([100, 200, 1, 5.6, 300.12])\n",
    "ds_sorted = ds.sort_values()\n",
    "ds_sorted"
   ]
  },
  {
   "cell_type": "markdown",
   "metadata": {},
   "source": [
    "### add data to existing series"
   ]
  },
  {
   "cell_type": "code",
   "execution_count": 73,
   "metadata": {
    "ExecuteTime": {
     "end_time": "2020-03-22T19:47:07.589503Z",
     "start_time": "2020-03-22T19:47:07.575579Z"
    }
   },
   "outputs": [
    {
     "data": {
      "text/plain": [
       "0    100\n",
       "1    200\n",
       "2     58\n",
       "3     56\n",
       "4     88\n",
       "5    foo\n",
       "6    bar\n",
       "dtype: object"
      ]
     },
     "execution_count": 73,
     "metadata": {},
     "output_type": "execute_result"
    }
   ],
   "source": [
    "ds = pd.Series([100, 200, 58, 56, 88])\n",
    "ds2 = pd.Series([\"foo\", \"bar\"])\n",
    "ds = ds.append(ds2).reset_index(drop=True)\n",
    "ds"
   ]
  },
  {
   "cell_type": "markdown",
   "metadata": {},
   "source": [
    "### create a subset of a given series based on value and condition"
   ]
  },
  {
   "cell_type": "code",
   "execution_count": 75,
   "metadata": {
    "ExecuteTime": {
     "end_time": "2020-03-22T19:50:14.610863Z",
     "start_time": "2020-03-22T19:50:14.599906Z"
    }
   },
   "outputs": [
    {
     "data": {
      "text/plain": [
       "2    58\n",
       "3    56\n",
       "4    88\n",
       "dtype: int64"
      ]
     },
     "execution_count": 75,
     "metadata": {},
     "output_type": "execute_result"
    }
   ],
   "source": [
    "ds = pd.Series([100, 200, 58, 56, 88])\n",
    "ds_less_than_100 = ds[ds < 100]\n",
    "ds_less_than_100"
   ]
  },
  {
   "cell_type": "markdown",
   "metadata": {},
   "source": [
    "### change the order of index of a series"
   ]
  },
  {
   "cell_type": "code",
   "execution_count": 76,
   "metadata": {
    "ExecuteTime": {
     "end_time": "2020-03-22T20:51:48.997924Z",
     "start_time": "2020-03-22T20:51:48.975979Z"
    }
   },
   "outputs": [
    {
     "name": "stdout",
     "output_type": "stream",
     "text": [
      "4    A\n",
      "2    C\n",
      "3    D\n",
      "1    B\n",
      "dtype: object\n"
     ]
    },
    {
     "data": {
      "text/plain": [
       "1    B\n",
       "2    C\n",
       "3    D\n",
       "4    A\n",
       "dtype: object"
      ]
     },
     "execution_count": 76,
     "metadata": {},
     "output_type": "execute_result"
    }
   ],
   "source": [
    "ds = pd.Series(data=[\"A\", \"C\", \"D\", \"B\"], index=[4, 2, 3, 1])\n",
    "print (ds)\n",
    "ds_reindex = ds.reindex([1, 2, 3, 4])\n",
    "ds_reindex"
   ]
  },
  {
   "cell_type": "markdown",
   "metadata": {},
   "source": [
    "### create the mean and standard deviation of a Series"
   ]
  },
  {
   "cell_type": "code",
   "execution_count": 84,
   "metadata": {
    "ExecuteTime": {
     "end_time": "2020-03-22T21:01:45.211215Z",
     "start_time": "2020-03-22T21:01:45.206215Z"
    }
   },
   "outputs": [
    {
     "name": "stdout",
     "output_type": "stream",
     "text": [
      "Mean: 6.8  Std Dev: 4.147288270665545\n"
     ]
    }
   ],
   "source": [
    "ds = pd.Series([1, 5, 7, 9, 12])\n",
    "mean = ds.mean()\n",
    "std_dev = ds.std()\n",
    "print(f\"Mean: {mean}  Std Dev: {std_dev}\")"
   ]
  },
  {
   "cell_type": "markdown",
   "metadata": {},
   "source": [
    "### items of a series present in another series"
   ]
  },
  {
   "cell_type": "code",
   "execution_count": 96,
   "metadata": {
    "ExecuteTime": {
     "end_time": "2020-03-22T21:13:21.450060Z",
     "start_time": "2020-03-22T21:13:21.442091Z"
    }
   },
   "outputs": [
    {
     "name": "stdout",
     "output_type": "stream",
     "text": [
      "0     1\n",
      "2     7\n",
      "4    12\n",
      "dtype: int64\n"
     ]
    }
   ],
   "source": [
    "ds1 = pd.Series([1, 5, 7, 9, 12])\n",
    "ds2 = pd.Series([1, 8, 7, 15, 12])\n",
    "\n",
    "#value in other series\n",
    "val_in_other_series = ds1[ds1.isin(ds2)]  \n",
    "print(val_in_other_series)"
   ]
  },
  {
   "cell_type": "markdown",
   "metadata": {},
   "source": [
    "### items of a series NOT present in another series"
   ]
  },
  {
   "cell_type": "code",
   "execution_count": 97,
   "metadata": {
    "ExecuteTime": {
     "end_time": "2020-03-22T21:13:22.539825Z",
     "start_time": "2020-03-22T21:13:22.531843Z"
    }
   },
   "outputs": [
    {
     "name": "stdout",
     "output_type": "stream",
     "text": [
      "1    5\n",
      "3    9\n",
      "dtype: int64\n"
     ]
    }
   ],
   "source": [
    "ds1 = pd.Series([1, 5, 7, 9, 12])\n",
    "ds2 = pd.Series([1, 8, 7, 15, 12])\n",
    "\n",
    "#value not in other series\n",
    "val_not_in_other_series = ds1[~ds1.isin(ds2)]  \n",
    "print(val_not_in_other_series)"
   ]
  },
  {
   "cell_type": "markdown",
   "metadata": {},
   "source": [
    "### compute the min, 25th perc, median, 75th perc, max"
   ]
  },
  {
   "cell_type": "code",
   "execution_count": 102,
   "metadata": {
    "ExecuteTime": {
     "end_time": "2020-03-22T21:20:21.108686Z",
     "start_time": "2020-03-22T21:20:21.101703Z"
    }
   },
   "outputs": [
    {
     "data": {
      "text/plain": [
       "array([ 1.16329638,  9.18209927, 10.91630888, 14.94066182, 24.30158889])"
      ]
     },
     "execution_count": 102,
     "metadata": {},
     "output_type": "execute_result"
    }
   ],
   "source": [
    "numbers = pd.Series(np.random.normal(10, 4, 100))\n",
    "result = np.percentile(numbers, q=[0, 25, 50, 75, 100])\n",
    "result"
   ]
  },
  {
   "cell_type": "markdown",
   "metadata": {
    "ExecuteTime": {
     "end_time": "2020-03-22T21:24:43.123700Z",
     "start_time": "2020-03-22T21:24:43.119702Z"
    }
   },
   "source": [
    "### frequency counts of unique values in series"
   ]
  },
  {
   "cell_type": "code",
   "execution_count": 113,
   "metadata": {
    "ExecuteTime": {
     "end_time": "2020-03-22T21:27:07.822363Z",
     "start_time": "2020-03-22T21:27:07.813372Z"
    }
   },
   "outputs": [
    {
     "data": {
      "text/plain": [
       "8    14\n",
       "2    14\n",
       "7    13\n",
       "6    13\n",
       "5    11\n",
       "4    11\n",
       "1    10\n",
       "9     8\n",
       "3     6\n",
       "dtype: int64"
      ]
     },
     "execution_count": 113,
     "metadata": {},
     "output_type": "execute_result"
    }
   ],
   "source": [
    "numbers = pd.Series(np.random.randint(1, 10, 100))\n",
    "results = numbers.value_counts()\n",
    "results"
   ]
  },
  {
   "cell_type": "markdown",
   "metadata": {},
   "source": [
    "### relabel non-top values as 'other'"
   ]
  },
  {
   "cell_type": "code",
   "execution_count": 138,
   "metadata": {
    "ExecuteTime": {
     "end_time": "2020-03-22T21:40:53.997974Z",
     "start_time": "2020-03-22T21:40:53.987003Z"
    }
   },
   "outputs": [
    {
     "data": {
      "text/plain": [
       "0     Other\n",
       "1     Other\n",
       "2     Other\n",
       "3     Other\n",
       "4     Other\n",
       "      ...  \n",
       "95        5\n",
       "96    Other\n",
       "97    Other\n",
       "98    Other\n",
       "99    Other\n",
       "Length: 100, dtype: object"
      ]
     },
     "execution_count": 138,
     "metadata": {},
     "output_type": "execute_result"
    }
   ],
   "source": [
    "np.random.RandomState(100)\n",
    "num_series = pd.Series(np.random.randint(1, 10, [100]))\n",
    "result = num_series[~num_series.isin(num_series.value_counts().index[:1])] = 'Other'\n",
    "num_series"
   ]
  },
  {
   "cell_type": "markdown",
   "metadata": {},
   "source": [
    "###  find the positions of numbers that are multiples of 5"
   ]
  },
  {
   "cell_type": "code",
   "execution_count": 151,
   "metadata": {
    "ExecuteTime": {
     "end_time": "2020-03-22T21:47:37.854962Z",
     "start_time": "2020-03-22T21:47:37.848979Z"
    }
   },
   "outputs": [
    {
     "data": {
      "text/plain": [
       "array([[ 0],\n",
       "       [ 1],\n",
       "       [ 3],\n",
       "       [14],\n",
       "       [15],\n",
       "       [19]], dtype=int64)"
      ]
     },
     "execution_count": 151,
     "metadata": {},
     "output_type": "execute_result"
    }
   ],
   "source": [
    "num_series = pd.Series(np.random.randint(1, 11, 20))\n",
    "results = np.argwhere(num_series % 5 == 0)\n",
    "results  #can validate by printing num_series"
   ]
  },
  {
   "cell_type": "markdown",
   "metadata": {},
   "source": [
    "### extract items at given positions of a series"
   ]
  },
  {
   "cell_type": "code",
   "execution_count": 156,
   "metadata": {
    "ExecuteTime": {
     "end_time": "2020-03-22T21:51:13.438652Z",
     "start_time": "2020-03-22T21:51:13.422696Z"
    }
   },
   "outputs": [
    {
     "name": "stdout",
     "output_type": "stream",
     "text": [
      "2    orange\n",
      "dtype: object\n",
      "0     apple\n",
      "1    banana\n",
      "2    orange\n",
      "dtype: object\n"
     ]
    }
   ],
   "source": [
    "ds = pd.Series([\"apple\", \"banana\", \"orange\", \"pineapple\", \"pear\"])\n",
    "result_1 = ds.take([2])\n",
    "result_2 = ds.take([0, 1, 2])\n",
    "print(result_1)\n",
    "print(result_2)"
   ]
  },
  {
   "cell_type": "markdown",
   "metadata": {},
   "source": [
    "### get the positions of items of a series in another series"
   ]
  },
  {
   "cell_type": "code",
   "execution_count": 159,
   "metadata": {
    "ExecuteTime": {
     "end_time": "2020-03-22T21:54:26.166442Z",
     "start_time": "2020-03-22T21:54:26.151483Z"
    }
   },
   "outputs": [
    {
     "name": "stdout",
     "output_type": "stream",
     "text": [
      "Positions of items of series2 in series1:\n"
     ]
    },
    {
     "data": {
      "text/plain": [
       "[0, 2, 4, 6, 9]"
      ]
     },
     "execution_count": 159,
     "metadata": {},
     "output_type": "execute_result"
    }
   ],
   "source": [
    "ds1 = pd.Series([1, 2, 3, 4, 5, 6, 7, 8, 9, 10])\n",
    "ds2 = pd.Series([1, 3, 5, 7, 10])\n",
    "\n",
    "result = [pd.Index(ds1).get_loc(i) for i in ds2]\n",
    "print(\"Positions of items of series2 in series1:\")\n",
    "result"
   ]
  },
  {
   "cell_type": "markdown",
   "metadata": {},
   "source": [
    "### convert the first and last character of each word to upper case in series"
   ]
  },
  {
   "cell_type": "code",
   "execution_count": 162,
   "metadata": {
    "ExecuteTime": {
     "end_time": "2020-03-22T22:01:38.130543Z",
     "start_time": "2020-03-22T22:01:38.118579Z"
    }
   },
   "outputs": [
    {
     "data": {
      "text/plain": [
       "0     Bill S\n",
       "1      Ted R\n",
       "2    Sarah H\n",
       "3     Adam R\n",
       "dtype: object"
      ]
     },
     "execution_count": 162,
     "metadata": {},
     "output_type": "execute_result"
    }
   ],
   "source": [
    "ds = pd.Series([\"bill s\", \"ted r\", \"sarah h\", \"adam r\"])\n",
    "result = ds.map(lambda x: x[0].upper() + x[1:-1] + x[-1].upper()) \n",
    "result"
   ]
  },
  {
   "cell_type": "markdown",
   "metadata": {},
   "source": [
    "### calculate the number of characters in each word in a series"
   ]
  },
  {
   "cell_type": "code",
   "execution_count": 207,
   "metadata": {
    "ExecuteTime": {
     "end_time": "2020-03-22T23:48:02.441752Z",
     "start_time": "2020-03-22T23:48:02.432779Z"
    }
   },
   "outputs": [
    {
     "data": {
      "text/plain": [
       "0    4\n",
       "1    3\n",
       "2    5\n",
       "3    4\n",
       "dtype: int64"
      ]
     },
     "execution_count": 207,
     "metadata": {},
     "output_type": "execute_result"
    }
   ],
   "source": [
    "ds = pd.Series([\"bill\", \"ted\", \"sarah\", \"adam\"])\n",
    "result = ds.map(lambda x: len(x))\n",
    "type(result)\n",
    "result"
   ]
  },
  {
   "cell_type": "markdown",
   "metadata": {
    "ExecuteTime": {
     "end_time": "2020-03-22T22:02:44.652191Z",
     "start_time": "2020-03-22T22:02:44.649234Z"
    }
   },
   "source": [
    "### compute difference between consecutive numbers of a series"
   ]
  },
  {
   "cell_type": "code",
   "execution_count": 168,
   "metadata": {
    "ExecuteTime": {
     "end_time": "2020-03-22T22:06:03.700720Z",
     "start_time": "2020-03-22T22:06:03.688752Z"
    }
   },
   "outputs": [
    {
     "data": {
      "text/plain": [
       "1    4.0\n",
       "2    2.0\n",
       "3    2.0\n",
       "4    3.0\n",
       "dtype: float64"
      ]
     },
     "execution_count": 168,
     "metadata": {},
     "output_type": "execute_result"
    }
   ],
   "source": [
    "ds = pd.Series([1, 5, 7, 9, 12])\n",
    "result = ds.diff()  #.diff provies first discrete difference of element\n",
    "result[1:]"
   ]
  },
  {
   "cell_type": "markdown",
   "metadata": {},
   "source": [
    "### convert date strings to a timeseries"
   ]
  },
  {
   "cell_type": "code",
   "execution_count": 190,
   "metadata": {
    "ExecuteTime": {
     "end_time": "2020-03-22T23:34:09.225389Z",
     "start_time": "2020-03-22T23:34:09.217437Z"
    }
   },
   "outputs": [
    {
     "data": {
      "text/plain": [
       "0   2015-01-01 00:00:00\n",
       "1   2016-10-02 00:00:00\n",
       "2   2018-03-07 00:00:00\n",
       "3   2014-05-06 00:00:00\n",
       "4   2016-04-12 00:00:00\n",
       "5   2019-04-06 11:20:00\n",
       "dtype: datetime64[ns]"
      ]
     },
     "execution_count": 190,
     "metadata": {},
     "output_type": "execute_result"
    }
   ],
   "source": [
    "ds = pd.Series(['01 Jan 2015', '10-02-2016', '20180307', '2014/05/06', '2016-04-12', '2019-04-06T11:20'])\n",
    "date_ds = pd.to_datetime(ds)\n",
    "date_ds"
   ]
  },
  {
   "cell_type": "markdown",
   "metadata": {
    "ExecuteTime": {
     "end_time": "2020-03-22T23:35:44.484828Z",
     "start_time": "2020-03-22T23:35:44.480874Z"
    }
   },
   "source": [
    "### get the day of month, year, week from date strings"
   ]
  },
  {
   "cell_type": "code",
   "execution_count": 203,
   "metadata": {
    "ExecuteTime": {
     "end_time": "2020-03-22T23:43:51.114538Z",
     "start_time": "2020-03-22T23:43:51.104563Z"
    }
   },
   "outputs": [
    {
     "name": "stdout",
     "output_type": "stream",
     "text": [
      "Day of month: [1, 2, 7, 6, 12, 6]\n",
      "Day of year: [1, 276, 66, 126, 103, 96]\n",
      "Week number: [1, 39, 10, 19, 15, 14]\n",
      "Day of week: ['Thursday', 'Sunday', 'Wednesday', 'Tuesday', 'Tuesday', 'Saturday']\n"
     ]
    }
   ],
   "source": [
    "from dateutil.parser import parse\n",
    "\n",
    "ds = pd.Series(['01 Jan 2015', '10-02-2016', '20180307', '2014/05/06', '2016-04-12', '2019-04-06T11:20'])\n",
    "ds = ds.map(lambda x: parse(x))\n",
    "day_of_month = ds.dt.day.to_list()\n",
    "day_of_year = ds.dt.dayofyear.to_list()\n",
    "week_number = ds.dt.weekofyear.to_list()\n",
    "day_of_week = ds.dt.weekday_name.to_list()\n",
    "print(f\"Day of month: {day_of_month}\")\n",
    "print(f\"Day of year: {day_of_year}\")\n",
    "print(f\"Week number: {week_number}\")\n",
    "print(f\"Day of week: {day_of_week}\")"
   ]
  },
  {
   "cell_type": "markdown",
   "metadata": {},
   "source": [
    "### convert year-month string to year-month-day"
   ]
  },
  {
   "cell_type": "code",
   "execution_count": 211,
   "metadata": {
    "ExecuteTime": {
     "end_time": "2020-03-23T12:44:40.052816Z",
     "start_time": "2020-03-23T12:44:40.043840Z"
    }
   },
   "outputs": [
    {
     "data": {
      "text/plain": [
       "0   2011-06-01\n",
       "1   2015-07-01\n",
       "2   2020-05-01\n",
       "3   2010-01-01\n",
       "dtype: datetime64[ns]"
      ]
     },
     "execution_count": 211,
     "metadata": {},
     "output_type": "execute_result"
    }
   ],
   "source": [
    "from dateutil.parser import parse\n",
    "\n",
    "ds = pd.Series([\"June 2011\", \"July 2015\", \"May 2020\", \"January 2010\"])\n",
    "ds = ds.map(lambda x: parse(\"1\" + x))\n",
    "ds"
   ]
  },
  {
   "cell_type": "markdown",
   "metadata": {},
   "source": [
    "### filter words from a given series that contain condition"
   ]
  },
  {
   "cell_type": "code",
   "execution_count": 219,
   "metadata": {
    "ExecuteTime": {
     "end_time": "2020-03-23T12:53:28.833710Z",
     "start_time": "2020-03-23T12:53:28.821747Z"
    }
   },
   "outputs": [
    {
     "data": {
      "text/plain": [
       "1     tennis\n",
       "4       golf\n",
       "5    lacross\n",
       "dtype: object"
      ]
     },
     "execution_count": 219,
     "metadata": {},
     "output_type": "execute_result"
    }
   ],
   "source": [
    "ds = pd.Series([\"basketball\", \"tennis\", \"football\", \"baseball\", \"golf\", \"lacross\", \"handball\"])\n",
    "\n",
    "#words that dont contain 'ball'\n",
    "result = ds[~ds.str.contains('ball')]  # ~ negates the condition\n",
    "result "
   ]
  },
  {
   "cell_type": "code",
   "execution_count": null,
   "metadata": {},
   "outputs": [],
   "source": []
  }
 ],
 "metadata": {
  "kernelspec": {
   "display_name": "Python 3",
   "language": "python",
   "name": "python3"
  },
  "language_info": {
   "codemirror_mode": {
    "name": "ipython",
    "version": 3
   },
   "file_extension": ".py",
   "mimetype": "text/x-python",
   "name": "python",
   "nbconvert_exporter": "python",
   "pygments_lexer": "ipython3",
   "version": "3.7.4"
  },
  "toc": {
   "base_numbering": 1,
   "nav_menu": {},
   "number_sections": true,
   "sideBar": true,
   "skip_h1_title": false,
   "title_cell": "Table of Contents",
   "title_sidebar": "Contents",
   "toc_cell": false,
   "toc_position": {
    "height": "calc(100% - 180px)",
    "left": "10px",
    "top": "150px",
    "width": "341.6px"
   },
   "toc_section_display": true,
   "toc_window_display": true
  },
  "varInspector": {
   "cols": {
    "lenName": 16,
    "lenType": 16,
    "lenVar": 40
   },
   "kernels_config": {
    "python": {
     "delete_cmd_postfix": "",
     "delete_cmd_prefix": "del ",
     "library": "var_list.py",
     "varRefreshCmd": "print(var_dic_list())"
    },
    "r": {
     "delete_cmd_postfix": ") ",
     "delete_cmd_prefix": "rm(",
     "library": "var_list.r",
     "varRefreshCmd": "cat(var_dic_list()) "
    }
   },
   "types_to_exclude": [
    "module",
    "function",
    "builtin_function_or_method",
    "instance",
    "_Feature"
   ],
   "window_display": false
  }
 },
 "nbformat": 4,
 "nbformat_minor": 2
}
